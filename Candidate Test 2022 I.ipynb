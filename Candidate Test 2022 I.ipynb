{
 "cells": [
  {
   "cell_type": "markdown",
   "id": "278102b3",
   "metadata": {},
   "source": [
    "# Candidate Test 2022 Analysis Part 1\n",
    "\n",
    "This exercise focuses on the candidate tests from two television networks: DR and TV2. Data from both tests have been given on a scale of five responses (-2, -1, 0, 1, 2).\n",
    "\n",
    "---\n",
    "\n",
    "There are 6 datasets included in this exercise:\n",
    "\n",
    "- `alldata.xlsx`: Contains responses from both TV stations.\n",
    "- `drdata.xlsx`: Contains responses from DR.\n",
    "- `drq.xlsx`: Contains questions from DR.\n",
    "- `tv2data.xlsx`: Contains responses from TV2.\n",
    "- `tv2q.xlsx`: Contains questions from TV2.\n",
    "- `electeddata.xlsx`: Contains responses from both TV stations for candidates who were elected to the parliament. Note that 9 members are missing; 7 of them didn't take any of the tests. Additionally, some notable figures like Mette F. and Lars Løkke did not participate in any of the tests.\n",
    "\n",
    "---\n",
    "\n",
    "It's entirely up to you how you approach this data, but at a *minimum*, your analysis should include:\n",
    "- Age of the candidates grouped by parties.\n",
    "- An overview of the most \"confident\" candidates, i.e., those with the highest proportion of \"strongly agree\" or \"strongly disagree\" responses.\n",
    "- Differences in responses between candidates, both inter-party and intra-party, along with an explanation of which parties have the most internal disagreements.\n",
    "- Classification models to predict candidates' party affiliations. Investigate if there are any candidates who seem to be in the \"wrong\" party based on their political landscape positions. You must use the following three algorithms: **Decision Tree, Random Forrest, and Gradient Boosted Tree**, and **two other** classification algorithms of your choice.\n",
    "\n",
    "---\n",
    "\n",
    "The following parties are represented:\n",
    "\n",
    "| Party letter | Party name | Party name (English) | Political position |\n",
    "| :-: | :-: | :-: | :-: |\n",
    "| A | Socialdemokratiet | Social Democrats | Centre-left |\n",
    "| V | Venstre | Danish Liberal Party | Centre-right |\n",
    "| M | Moderaterne | Moderates | Centre-right |\n",
    "| F | Socialistisk Folkeparti | Socialist People's Party | Left-wing |\n",
    "| D | Danmarksdemokraterne | Denmark Democrats | Right-wing |\n",
    "| I | Liberal Alliance | Liberal Alliance | Right-wing |\n",
    "| C | Konservative | Conservative People's Party | Right-wing |\n",
    "| Æ | Enhedslisten | Red-Green Alliance | Far-left |\n",
    "| B | Radikale Venstre | Social Liberal Party | Centre-left |\n",
    "| D | Nye Borgerlige | New Right | Far-right |\n",
    "| Z | Alternativet | The Alternative | Centre-left |\n",
    "| O | Dansk Folkeparti | Danish People's Party | Far-right |\n",
    "| G | Frie Grønne | Free Greens | Centre-left |\n",
    "| K | Kristendemokraterne | Christian Democrats | Centre-right |\n",
    "\n",
    "Below you can see the results and the colors chosen to represent the parties. Use these colors in your analysis above.\n",
    "\n",
    "![Alt text](image-1.png)\n",
    "\n",
    "\n",
    "Others have undertaken similar analyses. You can draw inspiration from the following (use Google tranlsate if your Danish is rusty):\n",
    "\n",
    "- [Analysis of where individual candidates stand relative to each other and their parties](https://v2022.dumdata.dk/)\n",
    "- [Candidate Test 2022 – A deep dive into the data](https://kwedel.github.io/kandidattest2022/)\n",
    "- [The Political Landscape 2019](https://kwedel.github.io/kandidattest2019/)\n",
    "\n"
   ]
  },
  {
   "cell_type": "code",
   "execution_count": 47,
   "id": "de1bfc07",
   "metadata": {},
   "outputs": [
    {
     "name": "stdout",
     "output_type": "stream",
     "text": [
      "   530  531  533  534  535  537  538  540  541  543  ...  9a  9b  10a  10b  \\\n",
      "0   -1   -2    1   -2    2    1   -2    1    1    2  ...   2   0    1   -2   \n",
      "1    2    2   -1   -2   -1   -2    1   -2    2   -2  ...  -2   0   -1    2   \n",
      "2    2    1   -2   -2    1   -2    1   -1    1   -1  ...  -1  -2    0    2   \n",
      "3    2    1   -2   -1    1    1    1    1    1   -2  ...  -2   2    2    2   \n",
      "4    1    1   -2    2   -2    1   -2    1    2   -2  ...  -2   0   -1    0   \n",
      "\n",
      "   11a  11b  12a  12b               storkreds  alder  \n",
      "0   -2    1    1    1    Københavns Storkreds     78  \n",
      "1    1   -2    0    0          Fyns Storkreds     64  \n",
      "2    0   -1    1   -2     Bornholms Storkreds     37  \n",
      "3    2   -1    2    0  Nordjyllands Storkreds     28  \n",
      "4   -2    0    2   -2    Københavns Storkreds     58  \n",
      "\n",
      "[5 rows x 53 columns]\n"
     ]
    }
   ],
   "source": [
    "import pandas as pd\n",
    "\n",
    "data = pd.read_excel('alldata.xlsx')\n",
    "\n",
    "print(data.head())"
   ]
  },
  {
   "cell_type": "code",
   "execution_count": 48,
   "id": "abb02c9a",
   "metadata": {},
   "outputs": [
    {
     "name": "stdout",
     "output_type": "stream",
     "text": [
      "parti\n",
      "Danmarksdemokraterne                           51.216216\n",
      "Kristendemokraterne                            49.023810\n",
      "Løsgænger                                      48.000000\n",
      "Nye Borgerlige                                 47.568627\n",
      "Venstre                                        46.678571\n",
      "Alternativet                                   46.000000\n",
      "Dansk Folkeparti                               45.530612\n",
      "Radikale Venstre                               44.955224\n",
      "Socialdemokratiet                              44.344828\n",
      "Moderaterne                                    44.261905\n",
      "Det Konservative Folkeparti                    42.897959\n",
      "Socialistisk Folkeparti                        40.928571\n",
      "Enhedslisten                                   40.513514\n",
      "Liberal Alliance                               36.885714\n",
      "Frie Grønne, Danmarks Nye Venstrefløjsparti    34.807692\n",
      "Name: alder, dtype: float64\n"
     ]
    }
   ],
   "source": [
    "average_age = data.groupby('parti')['alder'].mean().sort_values(ascending=False)\n",
    "print(average_age)"
   ]
  },
  {
   "cell_type": "markdown",
   "id": "3b462432",
   "metadata": {},
   "source": [
    "And it turns out Danmarksdemokraterne is the 'oldest' party and Frie Grønne is the 'youngest' party, when considering the average age of the members.\n",
    "\n",
    "This is not surprising when you consider their political opinions and voter base."
   ]
  },
  {
   "cell_type": "markdown",
   "id": "c35e0bdf",
   "metadata": {},
   "source": [
    "To see who has the most extreme opinions, we can look at how many times a candidate has answered 'strongly agree' or 'strongly disagree' to a question."
   ]
  },
  {
   "cell_type": "code",
   "execution_count": 49,
   "id": "6c00eeea",
   "metadata": {},
   "outputs": [
    {
     "name": "stdout",
     "output_type": "stream",
     "text": [
      "navn\n",
      "Søren Vanting          49\n",
      "Sarah Nørris           49\n",
      "Kim Andkjær Doberck    44\n",
      "Rashid Ali             43\n",
      "Mohamed Abdikarim      43\n",
      "Frank Sørensen         42\n",
      "Elise Bjerkrheim       42\n",
      "Lone Vase Langballe    42\n",
      "John Bjerg             42\n",
      "Jan Filbært            42\n",
      "dtype: int64\n"
     ]
    }
   ],
   "source": [
    "data_questions = data.drop(['alder', 'storkreds', 'parti'], axis=1)\n",
    "\n",
    "answered_with_2_or_minus_2 = data_questions.groupby('navn').apply(lambda x: (x == 2) | (x == -2)).sum(axis=1)\n",
    "\n",
    "print(answered_with_2_or_minus_2.reset_index(level=1, drop=True).sort_values(ascending=False).head(10))"
   ]
  },
  {
   "cell_type": "markdown",
   "id": "12b06e2f",
   "metadata": {},
   "source": [
    "It turns out that Søren Vanting and Sarah Nørris are tied for the most \"extreme\" opinions. Vanting is from Det Konserative Folkeparti and Nørris is from Enhedslisten. So it seems there is extreme opinions on both sides of the political spectrum."
   ]
  },
  {
   "cell_type": "code",
   "execution_count": 50,
   "id": "ba6695a6",
   "metadata": {},
   "outputs": [],
   "source": [
    "# Drop løsgænger as they are not relevant for the statistical analysis and might cause class imbalance later\n",
    "data = data[data['parti'] != 'Løsgænger']"
   ]
  },
  {
   "cell_type": "markdown",
   "id": "7f5a10d1",
   "metadata": {},
   "source": [
    "We are making dictionaries for each subject, that we want to compare the candidates in.\n",
    "\n",
    "The dictionary consists of a key, that is the id of the question. And a value that is a boolean that dictates if answering \"2\" to the question is generally considered progressive or conservative.\n",
    "\n",
    "E.g.: \"Den økonomiske ulighed i det danske samfund bør mindskes?\"\n",
    "- \"2\": \"Ulighed skal mindskes\" (progressive)\n",
    "- \"-2\": \"Ulighed skal øges/ikke ændres\" (conservative)"
   ]
  },
  {
   "cell_type": "code",
   "execution_count": 51,
   "id": "74ac985a",
   "metadata": {},
   "outputs": [],
   "source": [
    "\n",
    "economy_questions = {\n",
    "    \"name\": \"Economy\",\n",
    "    \"questions\": {\n",
    "      '4a': True,\n",
    "      '4b': True,\n",
    "      '541': True,\n",
    "      '531': True,\n",
    "      '537': False,\n",
    "  }\n",
    "}\n",
    "\n",
    "immigration_questions = {\n",
    "  \"name\": \"Immigration\",\n",
    "  \"questions\": {\n",
    "    '6a': True,\n",
    "    '6b': False,\n",
    "    '555': False,\n",
    "    '551': False,\n",
    "  }\n",
    "}\n",
    "\n",
    "social_questions = {\n",
    "  \"name\": \"Social\",\n",
    "  \"questions\": {\n",
    "    '10a': False,\n",
    "    '10b': True,\n",
    "    '544': True,\n",
    "    '538': True,\n",
    "    '550': True,\n",
    "    '553': False,\n",
    "  }\n",
    "}\n",
    "\n",
    "welfare_questions = {\n",
    "  \"name\": \"Welfare\",\n",
    "  \"questions\": {\n",
    "    '9a': False,\n",
    "    '557': True,\n",
    "    '548': True,\n",
    "    '543': False,\n",
    "    '545': True,\n",
    "  }\n",
    "}\n",
    "\n",
    "climate_questions = {\n",
    "  \"name\": \"Climate\",\n",
    "  \"questions\": {\n",
    "    '559': True,\n",
    "    '546': False,\n",
    "    '530': True,\n",
    "    '1a': True,\n",
    "    '1b': True,\n",
    "    '7a': False,\n",
    "    '7b': False,\n",
    "  }\n",
    "}"
   ]
  },
  {
   "cell_type": "markdown",
   "id": "aa932ab7",
   "metadata": {},
   "source": [
    "Based on these questions, you can create a dictionary of all the candidates opinions on these subjects. One sum for each subject. This will give you an idea of how progressive or conservative a candidate is."
   ]
  },
  {
   "cell_type": "code",
   "execution_count": 52,
   "id": "8c16add9",
   "metadata": {},
   "outputs": [
    {
     "name": "stdout",
     "output_type": "stream",
     "text": [
      "{'parti': 'Det Konservative Folkeparti', 'subjects': {'Economy': -3, 'Immigration': -1, 'Social': -8, 'Welfare': -4, 'Climate': -1}}\n"
     ]
    }
   ],
   "source": [
    "# Make a list of all objects\n",
    "question_subjects = [economy_questions, immigration_questions, social_questions, welfare_questions, climate_questions]\n",
    "\n",
    "CandidateOpinions = {}\n",
    "\n",
    "# Initialize CandidateOpinions for each person\n",
    "for index, row in data.iterrows():\n",
    "    CandidateOpinions[row['navn']] = {\n",
    "        'parti': row['parti'],\n",
    "        'subjects': {}\n",
    "    }\n",
    "    for subject in question_subjects:\n",
    "        CandidateOpinions[row['navn']]['subjects'][subject[\"name\"]] = 0  # Initialize each subject score to 0\n",
    "\n",
    "# Assuming data_questions is a dictionary containing questions and values\n",
    "for index, row in data.iterrows():\n",
    "    for subject in question_subjects:\n",
    "        for question, value in subject[\"questions\"].items():  # Use items() to iterate over keys and values\n",
    "            CandidateOpinions[row['navn']]['subjects'][subject[\"name\"]] += data.get(question, 0)[index] if value else -data.get(question, 0)[index]\n",
    "\n",
    "\n",
    "# Now we have a value for each subject for each person\n",
    "print(CandidateOpinions['Mette Abildgaard'])\n",
    "\n"
   ]
  },
  {
   "cell_type": "markdown",
   "id": "fa04b8c6",
   "metadata": {},
   "source": [
    "Based on the candidate opinions, you can average the opinions of the candidates to get an idea of how progressive or conservative a party is."
   ]
  },
  {
   "cell_type": "code",
   "execution_count": 64,
   "id": "5e3cebf7",
   "metadata": {},
   "outputs": [
    {
     "name": "stdout",
     "output_type": "stream",
     "text": [
      "{'Moderaterne': {'Economy': 0.35714285714285715, 'Immigration': 3.261904761904762, 'Social': -2.761904761904762, 'Welfare': 0.7619047619047619, 'Climate': -2.119047619047619}, 'Socialistisk Folkeparti': {'Economy': 8.485714285714286, 'Immigration': 6.328571428571428, 'Social': 5.371428571428571, 'Welfare': 6.085714285714285, 'Climate': 7.614285714285714}, 'Alternativet': {'Economy': 6.373134328358209, 'Immigration': 6.985074626865671, 'Social': 3.4029850746268657, 'Welfare': 5.029850746268656, 'Climate': 9.0}, 'Enhedslisten': {'Economy': 8.81081081081081, 'Immigration': 7.581081081081081, 'Social': 6.297297297297297, 'Welfare': 5.72972972972973, 'Climate': 9.864864864864865}, 'Danmarksdemokraterne': {'Economy': -2.27027027027027, 'Immigration': -7.297297297297297, 'Social': -5.621621621621622, 'Welfare': -0.8378378378378378, 'Climate': -4.513513513513513}, 'Venstre': {'Economy': -3.7023809523809526, 'Immigration': -1.369047619047619, 'Social': -5.095238095238095, 'Welfare': -1.2976190476190477, 'Climate': -5.238095238095238}, 'Frie Grønne, Danmarks Nye Venstrefløjsparti': {'Economy': 8.615384615384615, 'Immigration': 7.846153846153846, 'Social': 5.038461538461538, 'Welfare': 6.923076923076923, 'Climate': 11.115384615384615}, 'Dansk Folkeparti': {'Economy': -0.673469387755102, 'Immigration': -7.081632653061225, 'Social': -5.326530612244898, 'Welfare': -1.6122448979591837, 'Climate': -6.877551020408164}, 'Kristendemokraterne': {'Economy': -0.047619047619047616, 'Immigration': 6.809523809523809, 'Social': -7.238095238095238, 'Welfare': 2.5, 'Climate': -2.5}, 'Liberal Alliance': {'Economy': -7.9714285714285715, 'Immigration': -0.15714285714285714, 'Social': -7.0285714285714285, 'Welfare': -3.257142857142857, 'Climate': -8.014285714285714}, 'Nye Borgerlige': {'Economy': -5.411764705882353, 'Immigration': -6.333333333333333, 'Social': -8.03921568627451, 'Welfare': -2.588235294117647, 'Climate': -12.549019607843137}, 'Det Konservative Folkeparti': {'Economy': -4.959183673469388, 'Immigration': -2.306122448979592, 'Social': -8.153061224489797, 'Welfare': -2.122448979591837, 'Climate': -5.153061224489796}, 'Radikale Venstre': {'Economy': 0.5671641791044776, 'Immigration': 7.388059701492537, 'Social': 2.388059701492537, 'Welfare': 4.746268656716418, 'Climate': 6.597014925373134}, 'Socialdemokratiet': {'Economy': 3.045977011494253, 'Immigration': -2.9080459770114944, 'Social': 2.7241379310344827, 'Welfare': 2.7241379310344827, 'Climate': 3.160919540229885}}\n"
     ]
    }
   ],
   "source": [
    "PartyOpinions = {}\n",
    "\n",
    "# Initialize PartyOpinions for each party\n",
    "for party in data['parti'].unique():\n",
    "    PartyOpinions[party] = {}\n",
    "    for subject in question_subjects:\n",
    "        PartyOpinions[party][subject[\"name\"]] = 0  # Initialize each subject score to 0\n",
    "\n",
    "\n",
    "for candidate in CandidateOpinions:\n",
    "    for subject in question_subjects:\n",
    "        PartyOpinions[CandidateOpinions[candidate]['parti']][subject[\"name\"]] += CandidateOpinions[candidate]['subjects'][subject[\"name\"]]\n",
    "\n",
    "party_sizes = data['parti'].value_counts()\n",
    "\n",
    "for party in PartyOpinions:\n",
    "    for subject in question_subjects:\n",
    "        PartyOpinions[party][subject[\"name\"]] /= party_sizes[party]\n",
    "\n",
    "print(PartyOpinions)\n"
   ]
  },
  {
   "cell_type": "code",
   "execution_count": null,
   "id": "9a448c72",
   "metadata": {},
   "outputs": [],
   "source": []
  },
  {
   "cell_type": "markdown",
   "id": "3f16f406",
   "metadata": {},
   "source": [
    "Based on the party opionions, you can make a bar chart of the parties opinions on each subject. This will give an overview of how progressive or conservative the parties are on each subject."
   ]
  },
  {
   "cell_type": "code",
   "execution_count": 54,
   "id": "2704996f",
   "metadata": {},
   "outputs": [
    {
     "data": {
      "image/png": "[encoded data removed]",
      "text/plain": [
       "<Figure size 2000x500 with 1 Axes>"
      ]
     },
     "metadata": {},
     "output_type": "display_data"
    }
   ],
   "source": [
    "party_data = {\n",
    "    \"Names\": list(PartyOpinions.keys()),\n",
    "    \"Economy\": [PartyOpinions[party][\"Economy\"] for party in PartyOpinions],\n",
    "    \"Social\": [PartyOpinions[party][\"Social\"] for party in PartyOpinions],\n",
    "    \"Immigration\": [PartyOpinions[party][\"Immigration\"] for party in PartyOpinions],\n",
    "    \"Welfare\": [PartyOpinions[party][\"Welfare\"] for party in PartyOpinions],\n",
    "    \"Climate\": [PartyOpinions[party][\"Climate\"] for party in PartyOpinions] \n",
    "}\n",
    "\n",
    "\n",
    "\n",
    "df = pd.DataFrame(party_data)\n",
    "\n",
    "# Calculate the average score for each party\n",
    "df['Average'] = df.copy().drop('Names', axis=1).mean(axis=1)\n",
    "\n",
    "# Sort the DataFrame by the 'Average' column in descending order\n",
    "df_sorted = df.sort_values(by='Average', ascending=False)\n",
    "\n",
    "df_sorted.set_index('Names', inplace=True)\n",
    "\n",
    "# Plot the data using pandas plot() method\n",
    "ax = df_sorted.plot(kind='bar', figsize=(20, 5))\n",
    "\n",
    "# Add labels and title\n",
    "ax.set_xlabel('Party')\n",
    "ax.set_ylabel('Average Opinions')\n",
    "ax.set_title('Parties average opinions on different subjects')\n",
    "ax.grid(axis='y', linestyle='--', alpha=0.7)  # Add horizontal grid lines"
   ]
  },
  {
   "cell_type": "markdown",
   "id": "1eaf87e4",
   "metadata": {},
   "source": [
    "## So what do we see? \n",
    "\n",
    "We have ordered the parties in the order of most extreme left to most extreme right. To see which parties are the most extreme, and which are the most moderate.\n",
    "\n",
    "It aligns pretty well with what is considered left leaning, moderate and right leaning parties in Denmark."
   ]
  },
  {
   "cell_type": "markdown",
   "id": "e83a9b26",
   "metadata": {},
   "source": [
    "# Inter party disagreements\n",
    "\n",
    "1. Beregn den gennemsnittelige uenighed i hvert parti, sammenlign dem med hinanden for at finde det mest \"splittede\" parti. \n",
    "2. Ved at lave noget boxplot så har vi mulighed for at se om ét parti's extremer værdier passer med gennemsnittelige værdier for at andet parti. "
   ]
  },
  {
   "cell_type": "code",
   "execution_count": 65,
   "id": "65c05ae8",
   "metadata": {},
   "outputs": [
    {
     "name": "stdout",
     "output_type": "stream",
     "text": [
      "{'Economy': [9, 8, 10, 6, 9, 9, 10, 10, 9, 10, 9, 5, 8, 8, 8, 7, 7, 10, 9, 10, 10, 9, 9, 9, 6, 10], 'Immigration': [8, 8, 8, 8, 8, 8, 8, 8, 8, 8, 8, 8, 8, 8, 8, 8, 8, 8, 8, 4, 8, 8, 8, 8, 8, 8], 'Social': [-6, 2, 8, 5, 5, 3, 4, 3, 9, 6, 8, 7, 5, 5, 6, 6, 7, 7, 2, 3, 8, 4, 9, 4, 3, 8], 'Welfare': [4, 7, 9, 6, 8, 6, 9, 7, 9, 9, 6, 2, 9, 7, 9, 5, 6, 9, 7, 7, 9, 6, 7, 6, 5, 6], 'Climate': [9, 13, 13, 13, 10, 11, 13, 14, 10, 14, 13, 9, 14, 9, 9, 11, 10, 9, 12, 11, 10, 10, 12, 12, 9, 9]}\n"
     ]
    }
   ],
   "source": [
    "# Now we want to get a list of of all parties, with each individual candidate's opinions on each subject\n",
    "party_opinions = {}\n",
    "for candidate in CandidateOpinions.values():\n",
    "    party = candidate['parti']\n",
    "    subjects = candidate['subjects']\n",
    "\n",
    "    # Check if party exists in the dictionary\n",
    "    if party not in party_opinions:\n",
    "        party_opinions[party] = {}\n",
    "\n",
    "    # Add candidate's opinions to the corresponding party and subject\n",
    "    for subject, score in subjects.items():\n",
    "        if subject not in party_opinions[party]:\n",
    "            party_opinions[party][subject] = []\n",
    "\n",
    "        party_opinions[party][subject].append(score)\n",
    "\n",
    "print(party_opinions['Frie Grønne, Danmarks Nye Venstrefløjsparti'])"
   ]
  },
  {
   "cell_type": "code",
   "execution_count": 74,
   "id": "142f2aad",
   "metadata": {},
   "outputs": [
    {
     "data": {
      "image/png": "[encoded data removed]",
      "text/plain": [
       "<Figure size 1200x600 with 1 Axes>"
      ]
     },
     "metadata": {},
     "output_type": "display_data"
    }
   ],
   "source": [
    "import numpy as np\n",
    "\n",
    "# Calculate average disagreement for each subject within each party\n",
    "average_disagreement = {}\n",
    "for party, opinions_by_subject in party_opinions.items():\n",
    "  subject_disagreements = []\n",
    "  for subject, scores in opinions_by_subject.items():\n",
    "    # Calculate standard deviation (spread) as a measure of disagreement\n",
    "    disagreement = np.std(scores)\n",
    "    subject_disagreements.append((subject, disagreement))\n",
    "  average_disagreement[party] = subject_disagreements\n",
    "\n",
    "# Create DataFrame and plot\n",
    "data = []\n",
    "for party, subject_disagreements in average_disagreement.items():\n",
    "  for subject, disagreement in subject_disagreements:\n",
    "    data.append({\"Party\": party, \"Subject\": subject, \"Disagreement\": disagreement})\n",
    "\n",
    "df = pd.DataFrame(data)\n",
    "ax = df.pivot_table(index=\"Party\", columns=\"Subject\", values=\"Disagreement\").plot(kind=\"bar\", figsize=(12, 6))\n",
    "\n",
    "# Add labels and title\n",
    "ax.set_xlabel(\"Party\")\n",
    "ax.set_ylabel(\"Average Disagreement (Standard Deviation)\")\n",
    "ax.set_title(\"Average Disagreement within each Party (by Subject)\")\n",
    "\n",
    "ax.grid(axis=\"y\", linestyle=\"--\", alpha=0.7)  # Add horizontal grid lines\n"
   ]
  },
  {
   "cell_type": "markdown",
   "id": "0525b6e5",
   "metadata": {},
   "source": [
    "# Model training"
   ]
  },
  {
   "cell_type": "markdown",
   "id": "687cf095",
   "metadata": {},
   "source": [
    "# SVM"
   ]
  },
  {
   "cell_type": "code",
   "execution_count": null,
   "id": "941a9518",
   "metadata": {},
   "outputs": [],
   "source": [
    "from sklearn.model_selection import train_test_split\n",
    "from sklearn.svm import SVC\n",
    "from sklearn.preprocessing import MinMaxScaler"
   ]
  },
  {
   "cell_type": "code",
   "execution_count": null,
   "id": "28935b38",
   "metadata": {},
   "outputs": [
    {
     "name": "stdout",
     "output_type": "stream",
     "text": [
      "Accuracy on training set: 0.97\n",
      "Accuracy on test set: 0.92\n"
     ]
    }
   ],
   "source": [
    "# Without age\n",
    "X = data.copy().drop(['parti', 'alder', 'storkreds', 'navn'], axis=1)\n",
    "y = data['parti']\n",
    "X_train, X_test, y_train, y_test = train_test_split(X, y, \n",
    "                                                   stratify=y, \n",
    "                                                   random_state=42)\n",
    "svc = SVC()\n",
    "svc.fit(X_train, y_train)\n",
    "\n",
    "print(\"Accuracy on training set: {:.2f}\".format(svc.score(X_train, y_train)))\n",
    "print(\"Accuracy on test set: {:.2f}\".format(svc.score(X_test, y_test)))"
   ]
  },
  {
   "cell_type": "code",
   "execution_count": null,
   "id": "59f6730d",
   "metadata": {},
   "outputs": [
    {
     "name": "stdout",
     "output_type": "stream",
     "text": [
      "Accuracy on training set: 0.73\n",
      "Accuracy on test set: 0.73\n"
     ]
    }
   ],
   "source": [
    "# With age, no scaling\n",
    "X = data.copy().drop(['parti', 'storkreds', 'navn'], axis=1)\n",
    "y = data['parti']\n",
    "X_train, X_test, y_train, y_test = train_test_split(X, y, \n",
    "                                                   stratify=y, \n",
    "                                                   random_state=42)\n",
    "svc = SVC()\n",
    "svc.fit(X_train, y_train)\n",
    "\n",
    "print(\"Accuracy on training set: {:.2f}\".format(svc.score(X_train, y_train)))\n",
    "print(\"Accuracy on test set: {:.2f}\".format(svc.score(X_test, y_test)))"
   ]
  },
  {
   "cell_type": "code",
   "execution_count": null,
   "id": "f761b4ec",
   "metadata": {},
   "outputs": [
    {
     "name": "stdout",
     "output_type": "stream",
     "text": [
      "Accuracy on training set: 0.97\n",
      "Accuracy on test set: 0.92\n"
     ]
    }
   ],
   "source": [
    "# Age with scaling\n",
    "X = data.copy().drop(['parti', 'storkreds', 'navn'], axis=1)\n",
    "y = data['parti']\n",
    "X_train, X_test, y_train, y_test = train_test_split(X, y, \n",
    "                                                   stratify=y, \n",
    "                                                   random_state=42)\n",
    "\n",
    "scaler = MinMaxScaler()\n",
    "scaler.fit(X_train)\n",
    "X_train_scaled = scaler.transform(X_train)\n",
    "X_test_scaled = scaler.transform(X_test)\n",
    "\n",
    "svc.fit(X_train_scaled, y_train)\n",
    "print(\"Accuracy on training set: {:.2f}\".format(svc.score(X_train_scaled, y_train)))\n",
    "print(\"Accuracy on test set: {:.2f}\".format(svc.score(X_test_scaled, y_test)))"
   ]
  },
  {
   "cell_type": "markdown",
   "id": "b53eb377",
   "metadata": {},
   "source": [
    "# Optimizing\n",
    "\n",
    "Now we will try to optimize the models using GridSearchCV. "
   ]
  },
  {
   "cell_type": "code",
   "execution_count": null,
   "id": "12ec9e5c",
   "metadata": {},
   "outputs": [],
   "source": [
    "from sklearn.model_selection import cross_val_score\n",
    "from sklearn.model_selection import GridSearchCV"
   ]
  },
  {
   "cell_type": "code",
   "execution_count": null,
   "id": "66638fbe",
   "metadata": {},
   "outputs": [
    {
     "name": "stdout",
     "output_type": "stream",
     "text": [
      "Best Score:  0.919773404889684 Best parameters: {'C': 10, 'gamma': 0.01}\n",
      "0.11420393559928443 {'C': 0.001, 'gamma': 0.001}\n",
      "0.11420393559928443 {'C': 0.001, 'gamma': 0.01}\n",
      "0.11420393559928443 {'C': 0.001, 'gamma': 0.1}\n",
      "0.11420393559928443 {'C': 0.001, 'gamma': 1}\n",
      "0.11420393559928443 {'C': 0.001, 'gamma': 10}\n",
      "0.11420393559928443 {'C': 0.001, 'gamma': 100}\n",
      "0.11420393559928443 {'C': 0.01, 'gamma': 0.001}\n",
      "0.11420393559928443 {'C': 0.01, 'gamma': 0.01}\n",
      "0.11420393559928443 {'C': 0.01, 'gamma': 0.1}\n",
      "0.11420393559928443 {'C': 0.01, 'gamma': 1}\n",
      "0.11420393559928443 {'C': 0.01, 'gamma': 10}\n",
      "0.11420393559928443 {'C': 0.01, 'gamma': 100}\n",
      "0.11420393559928443 {'C': 0.1, 'gamma': 0.001}\n",
      "0.17440667859272513 {'C': 0.1, 'gamma': 0.01}\n",
      "0.5848777579010138 {'C': 0.1, 'gamma': 0.1}\n",
      "0.1296362552176506 {'C': 0.1, 'gamma': 1}\n",
      "0.11420393559928443 {'C': 0.1, 'gamma': 10}\n",
      "0.11420393559928443 {'C': 0.1, 'gamma': 100}\n",
      "0.1697793679189028 {'C': 1, 'gamma': 0.001}\n",
      "0.8287656529516993 {'C': 1, 'gamma': 0.01}\n",
      "0.9120691711389386 {'C': 1, 'gamma': 0.1}\n",
      "0.7330709600477043 {'C': 1, 'gamma': 1}\n",
      "0.12345855694692905 {'C': 1, 'gamma': 10}\n",
      "0.11728085867620752 {'C': 1, 'gamma': 100}\n",
      "0.8395468097793678 {'C': 10, 'gamma': 0.001}\n",
      "0.919773404889684 {'C': 10, 'gamma': 0.01}\n",
      "0.9012403100775194 {'C': 10, 'gamma': 0.1}\n",
      "0.7546690518783542 {'C': 10, 'gamma': 1}\n",
      "0.12653548002385212 {'C': 10, 'gamma': 10}\n",
      "0.11728085867620752 {'C': 10, 'gamma': 100}\n",
      "0.919773404889684 {'C': 100, 'gamma': 0.001}\n",
      "0.8812283840190818 {'C': 100, 'gamma': 0.01}\n",
      "0.891973762671437 {'C': 100, 'gamma': 0.1}\n",
      "0.7546690518783542 {'C': 100, 'gamma': 1}\n",
      "0.12653548002385212 {'C': 100, 'gamma': 10}\n",
      "0.11728085867620752 {'C': 100, 'gamma': 100}\n"
     ]
    }
   ],
   "source": [
    "model = SVC(random_state=42)\n",
    "param_grid = {\n",
    "    'C': [0.001, 0.01, 0.1, 1, 10, 100],\n",
    "    'gamma': [0.001, 0.01, 0.1, 1, 10, 100]\n",
    "}\n",
    "\n",
    "# Grid search\n",
    "grid_search = GridSearchCV(model, param_grid, cv=5)\n",
    "grid_search.fit(X_train_scaled, y_train)\n",
    "\n",
    "# Results\n",
    "print(\"Best Score: \", grid_search.best_score_, \"Best parameters:\", grid_search.best_params_, )\n",
    "mean = grid_search.cv_results_['mean_test_score']\n",
    "params = grid_search.cv_results_['params']\n",
    "\n",
    "for mean, param in zip(mean, params):\n",
    "    print(mean, param)"
   ]
  },
  {
   "cell_type": "code",
   "execution_count": null,
   "id": "e46a21ab",
   "metadata": {},
   "outputs": [
    {
     "name": "stdout",
     "output_type": "stream",
     "text": [
      "Accuracy on testing set: 0.9166666666666666\n"
     ]
    }
   ],
   "source": [
    "# Testing with test data from most optimal hyper parameters\n",
    "\n",
    "svm_test_result = grid_search.best_estimator_.score(X_test_scaled, y_test)\n",
    "print(\"Accuracy on testing set: {}\".format(svm_test_result))\n"
   ]
  },
  {
   "cell_type": "markdown",
   "id": "f03a0575",
   "metadata": {},
   "source": [
    "# SVM Conclusion\n",
    "\n",
    "We found out that using the parameters: {'C': 10, 'gamma': 0.01, 'kernel': 'rbf'} we get the best results.\n",
    "Including the ages and scaling them. "
   ]
  },
  {
   "cell_type": "markdown",
   "id": "54437561",
   "metadata": {},
   "source": [
    "# KNN"
   ]
  },
  {
   "cell_type": "code",
   "execution_count": null,
   "id": "fdf801bd",
   "metadata": {},
   "outputs": [],
   "source": [
    "from sklearn.neighbors import KNeighborsClassifier\n"
   ]
  },
  {
   "cell_type": "code",
   "execution_count": null,
   "id": "85ee07ff",
   "metadata": {},
   "outputs": [
    {
     "name": "stdout",
     "output_type": "stream",
     "text": [
      "Best Score:  0.885855694692904 Best parameters: {'n_neighbors': 5}\n",
      "0.8503279666070362 {'n_neighbors': 1}\n",
      "0.8703995229576625 {'n_neighbors': 3}\n",
      "0.885855694692904 {'n_neighbors': 5}\n",
      "0.8657960644007157 {'n_neighbors': 7}\n",
      "0.8828026237328563 {'n_neighbors': 9}\n",
      "0.882814549791294 {'n_neighbors': 11}\n",
      "0.8781753130590341 {'n_neighbors': 13}\n",
      "0.8812522361359572 {'n_neighbors': 15}\n",
      "0.8796541443053071 {'n_neighbors': 17}\n",
      "0.8750506857483602 {'n_neighbors': 19}\n",
      "0.8704233750745377 {'n_neighbors': 21}\n",
      "0.8673106738223018 {'n_neighbors': 23}\n",
      "0.8688849135360762 {'n_neighbors': 25}\n",
      "0.8596183661299939 {'n_neighbors': 27}\n",
      "0.862695289206917 {'n_neighbors': 29}\n"
     ]
    }
   ],
   "source": [
    "model = KNeighborsClassifier()\n",
    "param_grid = {\n",
    "    \"n_neighbors\": [1, 3, 5, 7, 9, 11, 13, 15, 17, 19, 21, 23, 25, 27, 29], # We will try different numbers of neighbors\n",
    "}\n",
    "\n",
    "# Grid search\n",
    "grid_search = GridSearchCV(model, param_grid, cv=5, scoring='accuracy')\n",
    "grid_search.fit(X_train_scaled, y_train)\n",
    "\n",
    "# Results\n",
    "print(\"Best Score: \", grid_search.best_score_, \"Best parameters:\", grid_search.best_params_, )\n",
    "mean = grid_search.cv_results_['mean_test_score']\n",
    "params = grid_search.cv_results_['params']\n",
    "for mean, param in zip(mean, params):\n",
    "    print(mean, param)"
   ]
  },
  {
   "cell_type": "markdown",
   "id": "69c0531f",
   "metadata": {},
   "source": [
    "From here we can see that 5 neighbors seems to be the best choice. "
   ]
  },
  {
   "cell_type": "code",
   "execution_count": null,
   "id": "1274dea0",
   "metadata": {},
   "outputs": [
    {
     "name": "stdout",
     "output_type": "stream",
     "text": [
      "Accuracy on training set: 0.9228395061728395\n",
      "Accuracy on testing set: 0.8703703703703703\n"
     ]
    }
   ],
   "source": [
    "print(\"Accuracy on training set: {}\".format(grid_search.best_estimator_.score(X_train_scaled, y_train)))\n",
    "print(\"Accuracy on testing set: {}\".format(grid_search.best_estimator_.score(X_test_scaled, y_test)))"
   ]
  },
  {
   "cell_type": "markdown",
   "id": "d550867e",
   "metadata": {},
   "source": [
    "# Tree-based models"
   ]
  },
  {
   "cell_type": "markdown",
   "id": "7af752eb",
   "metadata": {},
   "source": [
    "We do not use the scaled dataset, because decision trees are generally not sensitive to the scale of features."
   ]
  },
  {
   "cell_type": "markdown",
   "id": "f81dfd57",
   "metadata": {},
   "source": [
    "## Random forest"
   ]
  },
  {
   "cell_type": "code",
   "execution_count": null,
   "id": "8801fa1b",
   "metadata": {},
   "outputs": [
    {
     "name": "stdout",
     "output_type": "stream",
     "text": [
      "Best Score:  0.9043530113297555 Best parameters: {'max_depth': None, 'min_samples_leaf': 2, 'min_samples_split': 10, 'n_estimators': 150}\n",
      "0.8935837805605248 {'max_depth': None, 'min_samples_leaf': 1, 'min_samples_split': 2, 'n_estimators': 50}\n",
      "0.8874180083482409 {'max_depth': None, 'min_samples_leaf': 1, 'min_samples_split': 2, 'n_estimators': 100}\n",
      "0.8936076326774002 {'max_depth': None, 'min_samples_leaf': 1, 'min_samples_split': 2, 'n_estimators': 150}\n",
      "0.8920214669051878 {'max_depth': None, 'min_samples_leaf': 1, 'min_samples_split': 5, 'n_estimators': 50}\n",
      "0.8935837805605248 {'max_depth': None, 'min_samples_leaf': 1, 'min_samples_split': 5, 'n_estimators': 100}\n",
      "0.8982110912343471 {'max_depth': None, 'min_samples_leaf': 1, 'min_samples_split': 5, 'n_estimators': 150}\n",
      "0.893536076326774 {'max_depth': None, 'min_samples_leaf': 1, 'min_samples_split': 10, 'n_estimators': 50}\n",
      "0.8920095408467501 {'max_depth': None, 'min_samples_leaf': 1, 'min_samples_split': 10, 'n_estimators': 100}\n",
      "0.8951222420989863 {'max_depth': None, 'min_samples_leaf': 1, 'min_samples_split': 10, 'n_estimators': 150}\n",
      "0.8935480023852117 {'max_depth': None, 'min_samples_leaf': 2, 'min_samples_split': 2, 'n_estimators': 50}\n",
      "0.8951103160405486 {'max_depth': None, 'min_samples_leaf': 2, 'min_samples_split': 2, 'n_estimators': 100}\n",
      "0.8935957066189625 {'max_depth': None, 'min_samples_leaf': 2, 'min_samples_split': 2, 'n_estimators': 150}\n",
      "0.8950983899821109 {'max_depth': None, 'min_samples_leaf': 2, 'min_samples_split': 5, 'n_estimators': 50}\n",
      "0.8919976147883124 {'max_depth': None, 'min_samples_leaf': 2, 'min_samples_split': 5, 'n_estimators': 100}\n",
      "0.895134168157424 {'max_depth': None, 'min_samples_leaf': 2, 'min_samples_split': 5, 'n_estimators': 150}\n",
      "0.8950626118067978 {'max_depth': None, 'min_samples_leaf': 2, 'min_samples_split': 10, 'n_estimators': 50}\n",
      "0.898175313059034 {'max_depth': None, 'min_samples_leaf': 2, 'min_samples_split': 10, 'n_estimators': 100}\n",
      "0.9043530113297555 {'max_depth': None, 'min_samples_leaf': 2, 'min_samples_split': 10, 'n_estimators': 150}\n",
      "0.8920333929636255 {'max_depth': None, 'min_samples_leaf': 4, 'min_samples_split': 2, 'n_estimators': 50}\n",
      "0.8874060822898032 {'max_depth': None, 'min_samples_leaf': 4, 'min_samples_split': 2, 'n_estimators': 100}\n",
      "0.8905068574836017 {'max_depth': None, 'min_samples_leaf': 4, 'min_samples_split': 2, 'n_estimators': 150}\n",
      "0.8920333929636255 {'max_depth': None, 'min_samples_leaf': 4, 'min_samples_split': 5, 'n_estimators': 50}\n",
      "0.8874060822898032 {'max_depth': None, 'min_samples_leaf': 4, 'min_samples_split': 5, 'n_estimators': 100}\n",
      "0.8905068574836017 {'max_depth': None, 'min_samples_leaf': 4, 'min_samples_split': 5, 'n_estimators': 150}\n",
      "0.8935718545020871 {'max_depth': None, 'min_samples_leaf': 4, 'min_samples_split': 10, 'n_estimators': 50}\n",
      "0.8904830053667263 {'max_depth': None, 'min_samples_leaf': 4, 'min_samples_split': 10, 'n_estimators': 100}\n",
      "0.8889922480620156 {'max_depth': None, 'min_samples_leaf': 4, 'min_samples_split': 10, 'n_estimators': 150}\n",
      "0.8889445438282648 {'max_depth': 10, 'min_samples_leaf': 1, 'min_samples_split': 2, 'n_estimators': 50}\n",
      "0.8966368515205725 {'max_depth': 10, 'min_samples_leaf': 1, 'min_samples_split': 2, 'n_estimators': 100}\n",
      "0.8982110912343471 {'max_depth': 10, 'min_samples_leaf': 1, 'min_samples_split': 2, 'n_estimators': 150}\n",
      "0.8935957066189625 {'max_depth': 10, 'min_samples_leaf': 1, 'min_samples_split': 5, 'n_estimators': 50}\n",
      "0.8920214669051878 {'max_depth': 10, 'min_samples_leaf': 1, 'min_samples_split': 5, 'n_estimators': 100}\n",
      "0.8981991651759094 {'max_depth': 10, 'min_samples_leaf': 1, 'min_samples_split': 5, 'n_estimators': 150}\n",
      "0.8827668455575433 {'max_depth': 10, 'min_samples_leaf': 1, 'min_samples_split': 10, 'n_estimators': 50}\n",
      "0.8889564698867025 {'max_depth': 10, 'min_samples_leaf': 1, 'min_samples_split': 10, 'n_estimators': 100}\n",
      "0.8981872391174717 {'max_depth': 10, 'min_samples_leaf': 1, 'min_samples_split': 10, 'n_estimators': 150}\n",
      "0.8873703041144901 {'max_depth': 10, 'min_samples_leaf': 2, 'min_samples_split': 2, 'n_estimators': 50}\n",
      "0.8920333929636255 {'max_depth': 10, 'min_samples_leaf': 2, 'min_samples_split': 2, 'n_estimators': 100}\n",
      "0.8905068574836017 {'max_depth': 10, 'min_samples_leaf': 2, 'min_samples_split': 2, 'n_estimators': 150}\n",
      "0.8935480023852117 {'max_depth': 10, 'min_samples_leaf': 2, 'min_samples_split': 5, 'n_estimators': 50}\n",
      "0.8951103160405486 {'max_depth': 10, 'min_samples_leaf': 2, 'min_samples_split': 5, 'n_estimators': 100}\n",
      "0.8997614788312462 {'max_depth': 10, 'min_samples_leaf': 2, 'min_samples_split': 5, 'n_estimators': 150}\n",
      "0.8935122242098986 {'max_depth': 10, 'min_samples_leaf': 2, 'min_samples_split': 10, 'n_estimators': 50}\n",
      "0.8966368515205725 {'max_depth': 10, 'min_samples_leaf': 2, 'min_samples_split': 10, 'n_estimators': 100}\n",
      "0.9028026237328562 {'max_depth': 10, 'min_samples_leaf': 2, 'min_samples_split': 10, 'n_estimators': 150}\n",
      "0.8904830053667263 {'max_depth': 10, 'min_samples_leaf': 4, 'min_samples_split': 2, 'n_estimators': 50}\n",
      "0.8858676207513417 {'max_depth': 10, 'min_samples_leaf': 4, 'min_samples_split': 2, 'n_estimators': 100}\n",
      "0.8905187835420394 {'max_depth': 10, 'min_samples_leaf': 4, 'min_samples_split': 2, 'n_estimators': 150}\n",
      "0.8904830053667263 {'max_depth': 10, 'min_samples_leaf': 4, 'min_samples_split': 5, 'n_estimators': 50}\n",
      "0.8858676207513417 {'max_depth': 10, 'min_samples_leaf': 4, 'min_samples_split': 5, 'n_estimators': 100}\n",
      "0.8905187835420394 {'max_depth': 10, 'min_samples_leaf': 4, 'min_samples_split': 5, 'n_estimators': 150}\n",
      "0.8904830053667263 {'max_depth': 10, 'min_samples_leaf': 4, 'min_samples_split': 10, 'n_estimators': 50}\n",
      "0.8935599284436494 {'max_depth': 10, 'min_samples_leaf': 4, 'min_samples_split': 10, 'n_estimators': 100}\n",
      "0.8874299344066786 {'max_depth': 10, 'min_samples_leaf': 4, 'min_samples_split': 10, 'n_estimators': 150}\n",
      "0.8935837805605248 {'max_depth': 20, 'min_samples_leaf': 1, 'min_samples_split': 2, 'n_estimators': 50}\n",
      "0.8874180083482409 {'max_depth': 20, 'min_samples_leaf': 1, 'min_samples_split': 2, 'n_estimators': 100}\n",
      "0.8936076326774002 {'max_depth': 20, 'min_samples_leaf': 1, 'min_samples_split': 2, 'n_estimators': 150}\n",
      "0.8920214669051878 {'max_depth': 20, 'min_samples_leaf': 1, 'min_samples_split': 5, 'n_estimators': 50}\n",
      "0.8935837805605248 {'max_depth': 20, 'min_samples_leaf': 1, 'min_samples_split': 5, 'n_estimators': 100}\n",
      "0.8982110912343471 {'max_depth': 20, 'min_samples_leaf': 1, 'min_samples_split': 5, 'n_estimators': 150}\n",
      "0.893536076326774 {'max_depth': 20, 'min_samples_leaf': 1, 'min_samples_split': 10, 'n_estimators': 50}\n",
      "0.8920095408467501 {'max_depth': 20, 'min_samples_leaf': 1, 'min_samples_split': 10, 'n_estimators': 100}\n",
      "0.8951222420989863 {'max_depth': 20, 'min_samples_leaf': 1, 'min_samples_split': 10, 'n_estimators': 150}\n",
      "0.8935480023852117 {'max_depth': 20, 'min_samples_leaf': 2, 'min_samples_split': 2, 'n_estimators': 50}\n",
      "0.8951103160405486 {'max_depth': 20, 'min_samples_leaf': 2, 'min_samples_split': 2, 'n_estimators': 100}\n",
      "0.8935957066189625 {'max_depth': 20, 'min_samples_leaf': 2, 'min_samples_split': 2, 'n_estimators': 150}\n",
      "0.8950983899821109 {'max_depth': 20, 'min_samples_leaf': 2, 'min_samples_split': 5, 'n_estimators': 50}\n",
      "0.8919976147883124 {'max_depth': 20, 'min_samples_leaf': 2, 'min_samples_split': 5, 'n_estimators': 100}\n",
      "0.895134168157424 {'max_depth': 20, 'min_samples_leaf': 2, 'min_samples_split': 5, 'n_estimators': 150}\n",
      "0.8950626118067978 {'max_depth': 20, 'min_samples_leaf': 2, 'min_samples_split': 10, 'n_estimators': 50}\n",
      "0.898175313059034 {'max_depth': 20, 'min_samples_leaf': 2, 'min_samples_split': 10, 'n_estimators': 100}\n",
      "0.9043530113297555 {'max_depth': 20, 'min_samples_leaf': 2, 'min_samples_split': 10, 'n_estimators': 150}\n",
      "0.8920333929636255 {'max_depth': 20, 'min_samples_leaf': 4, 'min_samples_split': 2, 'n_estimators': 50}\n",
      "0.8874060822898032 {'max_depth': 20, 'min_samples_leaf': 4, 'min_samples_split': 2, 'n_estimators': 100}\n",
      "0.8905068574836017 {'max_depth': 20, 'min_samples_leaf': 4, 'min_samples_split': 2, 'n_estimators': 150}\n",
      "0.8920333929636255 {'max_depth': 20, 'min_samples_leaf': 4, 'min_samples_split': 5, 'n_estimators': 50}\n",
      "0.8874060822898032 {'max_depth': 20, 'min_samples_leaf': 4, 'min_samples_split': 5, 'n_estimators': 100}\n",
      "0.8905068574836017 {'max_depth': 20, 'min_samples_leaf': 4, 'min_samples_split': 5, 'n_estimators': 150}\n",
      "0.8935718545020871 {'max_depth': 20, 'min_samples_leaf': 4, 'min_samples_split': 10, 'n_estimators': 50}\n",
      "0.8904830053667263 {'max_depth': 20, 'min_samples_leaf': 4, 'min_samples_split': 10, 'n_estimators': 100}\n",
      "0.8889922480620156 {'max_depth': 20, 'min_samples_leaf': 4, 'min_samples_split': 10, 'n_estimators': 150}\n"
     ]
    }
   ],
   "source": [
    "from sklearn.ensemble import RandomForestClassifier\n",
    "\n",
    "model = RandomForestClassifier(random_state=42)\n",
    "param_grid = {\n",
    "    'n_estimators': [50, 100, 150],\n",
    "    'max_depth': [None, 10, 20],\n",
    "    'min_samples_split': [2, 5, 10],\n",
    "    'min_samples_leaf': [1, 2, 4] \n",
    "}\n",
    "\n",
    "# Grid search\n",
    "grid_search = GridSearchCV(model, param_grid, cv=5, scoring='accuracy')\n",
    "grid_search.fit(X_train, y_train)\n",
    "\n",
    "# Results\n",
    "print(\"Best Score: \", grid_search.best_score_, \"Best parameters:\", grid_search.best_params_, )\n",
    "mean = grid_search.cv_results_['mean_test_score']\n",
    "params = grid_search.cv_results_['params']\n",
    "for mean, param in zip(mean, params):\n",
    "    print(mean, param)"
   ]
  },
  {
   "cell_type": "markdown",
   "id": "b42cd584",
   "metadata": {},
   "source": [
    "We can now determine that the best hyperparameters are: {'max_depth': None, 'min_samples_leaf': 2, 'min_samples_split': 10, 'n_estimators': 150}.\n",
    "We might want to limit max_depth in the future to improve the perfomance of the model."
   ]
  },
  {
   "cell_type": "code",
   "execution_count": null,
   "id": "467ae454",
   "metadata": {},
   "outputs": [
    {
     "name": "stdout",
     "output_type": "stream",
     "text": [
      "Accuracy on training set: 0.9845679012345679\n",
      "Accuracy on testing set: 0.9166666666666666\n"
     ]
    }
   ],
   "source": [
    "print(\"Accuracy on training set: {}\".format(grid_search.best_estimator_.score(X_train, y_train)))\n",
    "print(\"Accuracy on testing set: {}\".format(grid_search.best_estimator_.score(X_test, y_test)))"
   ]
  },
  {
   "cell_type": "markdown",
   "id": "0e127ad9",
   "metadata": {},
   "source": [
    "## Descision tree"
   ]
  },
  {
   "cell_type": "code",
   "execution_count": null,
   "id": "9bdcd1f1",
   "metadata": {},
   "outputs": [
    {
     "name": "stdout",
     "output_type": "stream",
     "text": [
      "Best Score:  0.7206320810971973 Best parameters: {'max_depth': 10, 'min_samples_leaf': 1, 'min_samples_split': 10}\n",
      "0.717602862254025 {'max_depth': None, 'min_samples_leaf': 1, 'min_samples_split': 2}\n",
      "0.7004770423375074 {'max_depth': None, 'min_samples_leaf': 1, 'min_samples_split': 5}\n",
      "0.7160166964818127 {'max_depth': None, 'min_samples_leaf': 1, 'min_samples_split': 10}\n",
      "0.7004889683959451 {'max_depth': None, 'min_samples_leaf': 2, 'min_samples_split': 2}\n",
      "0.7082409063804411 {'max_depth': None, 'min_samples_leaf': 2, 'min_samples_split': 5}\n",
      "0.7098032200357781 {'max_depth': None, 'min_samples_leaf': 2, 'min_samples_split': 10}\n",
      "0.691258199165176 {'max_depth': None, 'min_samples_leaf': 4, 'min_samples_split': 2}\n",
      "0.691258199165176 {'max_depth': None, 'min_samples_leaf': 4, 'min_samples_split': 5}\n",
      "0.6958974358974358 {'max_depth': None, 'min_samples_leaf': 4, 'min_samples_split': 10}\n",
      "0.6821466905187835 {'max_depth': 5, 'min_samples_leaf': 1, 'min_samples_split': 2}\n",
      "0.6836732259988073 {'max_depth': 5, 'min_samples_leaf': 1, 'min_samples_split': 5}\n",
      "0.6883005366726296 {'max_depth': 5, 'min_samples_leaf': 1, 'min_samples_split': 10}\n",
      "0.6883005366726296 {'max_depth': 5, 'min_samples_leaf': 2, 'min_samples_split': 2}\n",
      "0.6898389982110912 {'max_depth': 5, 'min_samples_leaf': 2, 'min_samples_split': 5}\n",
      "0.6913893858079904 {'max_depth': 5, 'min_samples_leaf': 2, 'min_samples_split': 10}\n",
      "0.6821466905187835 {'max_depth': 5, 'min_samples_leaf': 4, 'min_samples_split': 2}\n",
      "0.6821466905187835 {'max_depth': 5, 'min_samples_leaf': 4, 'min_samples_split': 5}\n",
      "0.6821466905187835 {'max_depth': 5, 'min_samples_leaf': 4, 'min_samples_split': 10}\n",
      "0.7191174716756111 {'max_depth': 10, 'min_samples_leaf': 1, 'min_samples_split': 2}\n",
      "0.7020870602265951 {'max_depth': 10, 'min_samples_leaf': 1, 'min_samples_split': 5}\n",
      "0.7206320810971973 {'max_depth': 10, 'min_samples_leaf': 1, 'min_samples_split': 10}\n",
      "0.7097793679189027 {'max_depth': 10, 'min_samples_leaf': 2, 'min_samples_split': 2}\n",
      "0.7067024448419796 {'max_depth': 10, 'min_samples_leaf': 2, 'min_samples_split': 5}\n",
      "0.7098032200357781 {'max_depth': 10, 'min_samples_leaf': 2, 'min_samples_split': 10}\n",
      "0.691258199165176 {'max_depth': 10, 'min_samples_leaf': 4, 'min_samples_split': 2}\n",
      "0.691258199165176 {'max_depth': 10, 'min_samples_leaf': 4, 'min_samples_split': 5}\n",
      "0.6958974358974358 {'max_depth': 10, 'min_samples_leaf': 4, 'min_samples_split': 10}\n",
      "0.717602862254025 {'max_depth': 15, 'min_samples_leaf': 1, 'min_samples_split': 2}\n",
      "0.7004770423375074 {'max_depth': 15, 'min_samples_leaf': 1, 'min_samples_split': 5}\n",
      "0.7160166964818127 {'max_depth': 15, 'min_samples_leaf': 1, 'min_samples_split': 10}\n",
      "0.7004889683959451 {'max_depth': 15, 'min_samples_leaf': 2, 'min_samples_split': 2}\n",
      "0.7082409063804411 {'max_depth': 15, 'min_samples_leaf': 2, 'min_samples_split': 5}\n",
      "0.7098032200357781 {'max_depth': 15, 'min_samples_leaf': 2, 'min_samples_split': 10}\n",
      "0.691258199165176 {'max_depth': 15, 'min_samples_leaf': 4, 'min_samples_split': 2}\n",
      "0.691258199165176 {'max_depth': 15, 'min_samples_leaf': 4, 'min_samples_split': 5}\n",
      "0.6958974358974358 {'max_depth': 15, 'min_samples_leaf': 4, 'min_samples_split': 10}\n",
      "0.717602862254025 {'max_depth': 20, 'min_samples_leaf': 1, 'min_samples_split': 2}\n",
      "0.7004770423375074 {'max_depth': 20, 'min_samples_leaf': 1, 'min_samples_split': 5}\n",
      "0.7160166964818127 {'max_depth': 20, 'min_samples_leaf': 1, 'min_samples_split': 10}\n",
      "0.7004889683959451 {'max_depth': 20, 'min_samples_leaf': 2, 'min_samples_split': 2}\n",
      "0.7082409063804411 {'max_depth': 20, 'min_samples_leaf': 2, 'min_samples_split': 5}\n",
      "0.7098032200357781 {'max_depth': 20, 'min_samples_leaf': 2, 'min_samples_split': 10}\n",
      "0.691258199165176 {'max_depth': 20, 'min_samples_leaf': 4, 'min_samples_split': 2}\n",
      "0.691258199165176 {'max_depth': 20, 'min_samples_leaf': 4, 'min_samples_split': 5}\n",
      "0.6958974358974358 {'max_depth': 20, 'min_samples_leaf': 4, 'min_samples_split': 10}\n"
     ]
    }
   ],
   "source": [
    "from sklearn.tree import DecisionTreeClassifier\n",
    "\n",
    "model = DecisionTreeClassifier(random_state=42)\n",
    "param_grid = {\n",
    "    'max_depth': [None, 5, 10, 15, 20],\n",
    "    'min_samples_split': [2, 5, 10],\n",
    "    'min_samples_leaf': [1, 2, 4] \n",
    "}\n",
    "\n",
    "# Grid search\n",
    "grid_search = GridSearchCV(model, param_grid, cv=5, scoring='accuracy')\n",
    "grid_search.fit(X_train, y_train)\n",
    "\n",
    "# Results\n",
    "print(\"Best Score: \", grid_search.best_score_, \"Best parameters:\", grid_search.best_params_, )\n",
    "mean = grid_search.cv_results_['mean_test_score']\n",
    "params = grid_search.cv_results_['params']\n",
    "for mean, param in zip(mean, params):\n",
    "    print(mean, param)"
   ]
  },
  {
   "cell_type": "code",
   "execution_count": null,
   "id": "fd86004d",
   "metadata": {},
   "outputs": [
    {
     "name": "stdout",
     "output_type": "stream",
     "text": [
      "Accuracy on training set: 0.8919753086419753\n",
      "Accuracy on testing set: 0.7546296296296297\n"
     ]
    }
   ],
   "source": [
    "print(\"Accuracy on training set: {}\".format(grid_search.best_estimator_.score(X_train, y_train)))\n",
    "print(\"Accuracy on testing set: {}\".format(grid_search.best_estimator_.score(X_test, y_test)))"
   ]
  },
  {
   "cell_type": "markdown",
   "id": "8f4023ce",
   "metadata": {},
   "source": [
    "There is a big gap between the training and the test score, which indicates that the model is overfitting. In addition the score is not very high, compared to the other models.\n",
    "\n",
    "But lets visualize the tree and see what the best predictors are."
   ]
  },
  {
   "cell_type": "code",
   "execution_count": null,
   "id": "5d4324da",
   "metadata": {},
   "outputs": [
    {
     "data": {
      "image/svg+xml": [
       "<?xml version=\"1.0\" encoding=\"UTF-8\" standalone=\"no\"?>\n",
       "<!DOCTYPE svg PUBLIC \"-//W3C//DTD SVG 1.1//EN\"\n",
       " \"http://www.w3.org/Graphics/SVG/1.1/DTD/svg11.dtd\">\n",
       "<!-- Generated by graphviz version 2.50.0 (0)\n",
       " -->\n",
       "<!-- Title: Tree Pages: 1 -->\n",
       "<svg width=\"636pt\" height=\"282pt\"\n",
       " viewBox=\"0.00 0.00 635.50 282.00\" xmlns=\"http://www.w3.org/2000/svg\" xmlns:xlink=\"http://www.w3.org/1999/xlink\">\n",
       "<g id=\"graph0\" class=\"graph\" transform=\"scale(1 1) rotate(0) translate(4 278)\">\n",
       "<title>Tree</title>\n",
       "<polygon fill=\"white\" stroke=\"transparent\" points=\"-4,4 -4,-278 631.5,-278 631.5,4 -4,4\"/>\n",
       "<!-- 0 -->\n",
       "<g id=\"node1\" class=\"node\">\n",
       "<title>0</title>\n",
       "<path fill=\"#fdfffc\" stroke=\"black\" d=\"M461,-274C461,-274 154,-274 154,-274 148,-274 142,-268 142,-262 142,-262 142,-203 142,-203 142,-197 148,-191 154,-191 154,-191 461,-191 461,-191 467,-191 473,-197 473,-203 473,-203 473,-262 473,-262 473,-268 467,-274 461,-274\"/>\n",
       "<text text-anchor=\"start\" x=\"279.5\" y=\"-258.8\" font-family=\"Helvetica,sans-Serif\" font-size=\"14.00\">11b ≤ 0.5</text>\n",
       "<text text-anchor=\"start\" x=\"272\" y=\"-243.8\" font-family=\"Helvetica,sans-Serif\" font-size=\"14.00\">gini = 0.921</text>\n",
       "<text text-anchor=\"start\" x=\"262.5\" y=\"-228.8\" font-family=\"Helvetica,sans-Serif\" font-size=\"14.00\">samples = 648</text>\n",
       "<text text-anchor=\"start\" x=\"150\" y=\"-213.8\" font-family=\"Helvetica,sans-Serif\" font-size=\"14.00\">value = [50, 28, 37, 74, 56, 20, 31, 52, 31, 38, 50, 65</text>\n",
       "<text text-anchor=\"start\" x=\"286.5\" y=\"-198.8\" font-family=\"Helvetica,sans-Serif\" font-size=\"14.00\">53, 63]</text>\n",
       "</g>\n",
       "<!-- 1 -->\n",
       "<g id=\"node2\" class=\"node\">\n",
       "<title>1</title>\n",
       "<path fill=\"#fef4fc\" stroke=\"black\" d=\"M281,-155C281,-155 12,-155 12,-155 6,-155 0,-149 0,-143 0,-143 0,-84 0,-84 0,-78 6,-72 12,-72 12,-72 281,-72 281,-72 287,-72 293,-78 293,-84 293,-84 293,-143 293,-143 293,-149 287,-155 281,-155\"/>\n",
       "<text text-anchor=\"start\" x=\"119.5\" y=\"-139.8\" font-family=\"Helvetica,sans-Serif\" font-size=\"14.00\">6b ≤ &#45;0.5</text>\n",
       "<text text-anchor=\"start\" x=\"111.5\" y=\"-124.8\" font-family=\"Helvetica,sans-Serif\" font-size=\"14.00\">gini = 0.811</text>\n",
       "<text text-anchor=\"start\" x=\"101.5\" y=\"-109.8\" font-family=\"Helvetica,sans-Serif\" font-size=\"14.00\">samples = 252</text>\n",
       "<text text-anchor=\"start\" x=\"8\" y=\"-94.8\" font-family=\"Helvetica,sans-Serif\" font-size=\"14.00\">value = [24, 0, 1, 2, 54, 3, 8, 0, 4, 0, 40, 65, 51</text>\n",
       "<text text-anchor=\"start\" x=\"140.5\" y=\"-79.8\" font-family=\"Helvetica,sans-Serif\" font-size=\"14.00\">0]</text>\n",
       "</g>\n",
       "<!-- 0&#45;&gt;1 -->\n",
       "<g id=\"edge1\" class=\"edge\">\n",
       "<title>0&#45;&gt;1</title>\n",
       "<path fill=\"none\" stroke=\"black\" d=\"M251.64,-190.91C238.4,-181.29 224.18,-170.95 210.61,-161.09\"/>\n",
       "<polygon fill=\"black\" stroke=\"black\" points=\"212.41,-158.07 202.26,-155.02 208.29,-163.73 212.41,-158.07\"/>\n",
       "<text text-anchor=\"middle\" x=\"206.17\" y=\"-176.01\" font-family=\"Helvetica,sans-Serif\" font-size=\"14.00\">True</text>\n",
       "</g>\n",
       "<!-- 46 -->\n",
       "<g id=\"node5\" class=\"node\">\n",
       "<title>46</title>\n",
       "<path fill=\"#fbfefa\" stroke=\"black\" d=\"M615.5,-155C615.5,-155 323.5,-155 323.5,-155 317.5,-155 311.5,-149 311.5,-143 311.5,-143 311.5,-84 311.5,-84 311.5,-78 317.5,-72 323.5,-72 323.5,-72 615.5,-72 615.5,-72 621.5,-72 627.5,-78 627.5,-84 627.5,-84 627.5,-143 627.5,-143 627.5,-149 621.5,-155 615.5,-155\"/>\n",
       "<text text-anchor=\"start\" x=\"441\" y=\"-139.8\" font-family=\"Helvetica,sans-Serif\" font-size=\"14.00\">534 ≤ 0.5</text>\n",
       "<text text-anchor=\"start\" x=\"434\" y=\"-124.8\" font-family=\"Helvetica,sans-Serif\" font-size=\"14.00\">gini = 0.887</text>\n",
       "<text text-anchor=\"start\" x=\"424.5\" y=\"-109.8\" font-family=\"Helvetica,sans-Serif\" font-size=\"14.00\">samples = 396</text>\n",
       "<text text-anchor=\"start\" x=\"319.5\" y=\"-94.8\" font-family=\"Helvetica,sans-Serif\" font-size=\"14.00\">value = [26, 28, 36, 72, 2, 17, 23, 52, 27, 38, 10, 0</text>\n",
       "<text text-anchor=\"start\" x=\"452.5\" y=\"-79.8\" font-family=\"Helvetica,sans-Serif\" font-size=\"14.00\">2, 63]</text>\n",
       "</g>\n",
       "<!-- 0&#45;&gt;46 -->\n",
       "<g id=\"edge4\" class=\"edge\">\n",
       "<title>0&#45;&gt;46</title>\n",
       "<path fill=\"none\" stroke=\"black\" d=\"M363.71,-190.91C377.02,-181.29 391.33,-170.95 404.99,-161.09\"/>\n",
       "<polygon fill=\"black\" stroke=\"black\" points=\"407.34,-163.71 413.39,-155.02 403.24,-158.04 407.34,-163.71\"/>\n",
       "<text text-anchor=\"middle\" x=\"409.41\" y=\"-176\" font-family=\"Helvetica,sans-Serif\" font-size=\"14.00\">False</text>\n",
       "</g>\n",
       "<!-- 2 -->\n",
       "<g id=\"node3\" class=\"node\">\n",
       "<title>2</title>\n",
       "<path fill=\"#c0c0c0\" stroke=\"black\" d=\"M125.5,-36C125.5,-36 95.5,-36 95.5,-36 89.5,-36 83.5,-30 83.5,-24 83.5,-24 83.5,-12 83.5,-12 83.5,-6 89.5,0 95.5,0 95.5,0 125.5,0 125.5,0 131.5,0 137.5,-6 137.5,-12 137.5,-12 137.5,-24 137.5,-24 137.5,-30 131.5,-36 125.5,-36\"/>\n",
       "<text text-anchor=\"middle\" x=\"110.5\" y=\"-14.3\" font-family=\"Helvetica,sans-Serif\" font-size=\"14.00\">(...)</text>\n",
       "</g>\n",
       "<!-- 1&#45;&gt;2 -->\n",
       "<g id=\"edge2\" class=\"edge\">\n",
       "<title>1&#45;&gt;2</title>\n",
       "<path fill=\"none\" stroke=\"black\" d=\"M130.81,-71.76C127.46,-63.04 123.99,-54.04 120.89,-45.99\"/>\n",
       "<polygon fill=\"black\" stroke=\"black\" points=\"124.06,-44.48 117.2,-36.41 117.53,-46.99 124.06,-44.48\"/>\n",
       "</g>\n",
       "<!-- 41 -->\n",
       "<g id=\"node4\" class=\"node\">\n",
       "<title>41</title>\n",
       "<path fill=\"#c0c0c0\" stroke=\"black\" d=\"M197.5,-36C197.5,-36 167.5,-36 167.5,-36 161.5,-36 155.5,-30 155.5,-24 155.5,-24 155.5,-12 155.5,-12 155.5,-6 161.5,0 167.5,0 167.5,0 197.5,0 197.5,0 203.5,0 209.5,-6 209.5,-12 209.5,-12 209.5,-24 209.5,-24 209.5,-30 203.5,-36 197.5,-36\"/>\n",
       "<text text-anchor=\"middle\" x=\"182.5\" y=\"-14.3\" font-family=\"Helvetica,sans-Serif\" font-size=\"14.00\">(...)</text>\n",
       "</g>\n",
       "<!-- 1&#45;&gt;41 -->\n",
       "<g id=\"edge3\" class=\"edge\">\n",
       "<title>1&#45;&gt;41</title>\n",
       "<path fill=\"none\" stroke=\"black\" d=\"M162.19,-71.76C165.54,-63.04 169.01,-54.04 172.11,-45.99\"/>\n",
       "<polygon fill=\"black\" stroke=\"black\" points=\"175.47,-46.99 175.8,-36.41 168.94,-44.48 175.47,-46.99\"/>\n",
       "</g>\n",
       "<!-- 47 -->\n",
       "<g id=\"node6\" class=\"node\">\n",
       "<title>47</title>\n",
       "<path fill=\"#c0c0c0\" stroke=\"black\" d=\"M448.5,-36C448.5,-36 418.5,-36 418.5,-36 412.5,-36 406.5,-30 406.5,-24 406.5,-24 406.5,-12 406.5,-12 406.5,-6 412.5,0 418.5,0 418.5,0 448.5,0 448.5,0 454.5,0 460.5,-6 460.5,-12 460.5,-12 460.5,-24 460.5,-24 460.5,-30 454.5,-36 448.5,-36\"/>\n",
       "<text text-anchor=\"middle\" x=\"433.5\" y=\"-14.3\" font-family=\"Helvetica,sans-Serif\" font-size=\"14.00\">(...)</text>\n",
       "</g>\n",
       "<!-- 46&#45;&gt;47 -->\n",
       "<g id=\"edge5\" class=\"edge\">\n",
       "<title>46&#45;&gt;47</title>\n",
       "<path fill=\"none\" stroke=\"black\" d=\"M453.81,-71.76C450.46,-63.04 446.99,-54.04 443.89,-45.99\"/>\n",
       "<polygon fill=\"black\" stroke=\"black\" points=\"447.06,-44.48 440.2,-36.41 440.53,-46.99 447.06,-44.48\"/>\n",
       "</g>\n",
       "<!-- 106 -->\n",
       "<g id=\"node7\" class=\"node\">\n",
       "<title>106</title>\n",
       "<path fill=\"#c0c0c0\" stroke=\"black\" d=\"M520.5,-36C520.5,-36 490.5,-36 490.5,-36 484.5,-36 478.5,-30 478.5,-24 478.5,-24 478.5,-12 478.5,-12 478.5,-6 484.5,0 490.5,0 490.5,0 520.5,0 520.5,0 526.5,0 532.5,-6 532.5,-12 532.5,-12 532.5,-24 532.5,-24 532.5,-30 526.5,-36 520.5,-36\"/>\n",
       "<text text-anchor=\"middle\" x=\"505.5\" y=\"-14.3\" font-family=\"Helvetica,sans-Serif\" font-size=\"14.00\">(...)</text>\n",
       "</g>\n",
       "<!-- 46&#45;&gt;106 -->\n",
       "<g id=\"edge6\" class=\"edge\">\n",
       "<title>46&#45;&gt;106</title>\n",
       "<path fill=\"none\" stroke=\"black\" d=\"M485.19,-71.76C488.54,-63.04 492.01,-54.04 495.11,-45.99\"/>\n",
       "<polygon fill=\"black\" stroke=\"black\" points=\"498.47,-46.99 498.8,-36.41 491.94,-44.48 498.47,-46.99\"/>\n",
       "</g>\n",
       "</g>\n",
       "</svg>\n"
      ],
      "text/plain": [
       "<graphviz.sources.Source at 0x2c08240b810>"
      ]
     },
     "execution_count": 50,
     "metadata": {},
     "output_type": "execute_result"
    }
   ],
   "source": [
    "import graphviz\n",
    "from sklearn.tree import export_graphviz\n",
    "\n",
    "dot_data = export_graphviz(grid_search.best_estimator_, out_file=None,\n",
    "              feature_names=X.columns, filled=True, rounded=True,\n",
    "              special_characters=True, max_depth=1)\n",
    "\n",
    "graph = graphviz.Source(dot_data)\n",
    "graph"
   ]
  },
  {
   "cell_type": "markdown",
   "id": "beff2b73",
   "metadata": {},
   "source": [
    "The best predictor was question **11b**, which is the following:\n",
    "> **11b:** *Det bør undersøges, om Mette Frederiksen kan stilles for en rigsret som konsekvens af hendes håndtering af Mink-sagen.*\n",
    "\n",
    "Which is a question about the Mink-saga, which was a big scandal in Denmark.\n",
    "\n",
    "Interestingly this is not about one of the big subjects in politics (economy, immigration, climate etc.), but about a specific event.\n",
    "\n",
    "The second best predictors was question **6b** and **534**.\n",
    "> **6b:** *Det vil være en god idé at etablere et dansk asylmodtagecenter i Rwanda.*\n",
    "\n",
    "> **534:** *På sigt skal Danmark meldes ud af EU*\n",
    "\n",
    "These questions are very standard political questions in comparison to **11b**, and discusses immigration and foreign policy."
   ]
  },
  {
   "cell_type": "markdown",
   "id": "6edae3f5",
   "metadata": {},
   "source": [
    "# Gradient Boosted Trees"
   ]
  },
  {
   "cell_type": "code",
   "execution_count": null,
   "id": "39b35890",
   "metadata": {},
   "outputs": [
    {
     "name": "stdout",
     "output_type": "stream",
     "text": [
      "Best Score:  0.8827906976744186 Best parameters: {'learning_rate': 0.1, 'max_depth': 2, 'n_estimators': 150}\n",
      "0.7778413834227788 {'learning_rate': 0.01, 'max_depth': 2, 'n_estimators': 50}\n",
      "0.8117710196779964 {'learning_rate': 0.01, 'max_depth': 2, 'n_estimators': 100}\n",
      "0.8380083482409063 {'learning_rate': 0.01, 'max_depth': 2, 'n_estimators': 150}\n",
      "0.7701252236135956 {'learning_rate': 0.01, 'max_depth': 3, 'n_estimators': 50}\n",
      "0.8210137149672032 {'learning_rate': 0.01, 'max_depth': 3, 'n_estimators': 100}\n",
      "0.8364221824686939 {'learning_rate': 0.01, 'max_depth': 3, 'n_estimators': 150}\n",
      "0.8766010733452594 {'learning_rate': 0.1, 'max_depth': 2, 'n_estimators': 50}\n",
      "0.8812403100775195 {'learning_rate': 0.1, 'max_depth': 2, 'n_estimators': 100}\n",
      "0.8827906976744186 {'learning_rate': 0.1, 'max_depth': 2, 'n_estimators': 150}\n",
      "0.8611568276684556 {'learning_rate': 0.1, 'max_depth': 3, 'n_estimators': 50}\n",
      "0.8627429934406677 {'learning_rate': 0.1, 'max_depth': 3, 'n_estimators': 100}\n",
      "0.8658199165175908 {'learning_rate': 0.1, 'max_depth': 3, 'n_estimators': 150}\n",
      "0.12661896243291593 {'learning_rate': 1, 'max_depth': 2, 'n_estimators': 50}\n",
      "0.12661896243291593 {'learning_rate': 1, 'max_depth': 2, 'n_estimators': 100}\n",
      "0.12661896243291593 {'learning_rate': 1, 'max_depth': 2, 'n_estimators': 150}\n",
      "0.35984496124031007 {'learning_rate': 1, 'max_depth': 3, 'n_estimators': 50}\n",
      "0.35984496124031007 {'learning_rate': 1, 'max_depth': 3, 'n_estimators': 100}\n",
      "0.35984496124031007 {'learning_rate': 1, 'max_depth': 3, 'n_estimators': 150}\n"
     ]
    }
   ],
   "source": [
    "from sklearn.ensemble import GradientBoostingClassifier\n",
    "# Gridsearch setup\n",
    "gbt_model = GradientBoostingClassifier(random_state=42)\n",
    "\n",
    "param_grid = {\n",
    "    'n_estimators': [50, 100, 150],\n",
    "    'max_depth': [2,3],\n",
    "    'learning_rate': [0.01, 0.1, 1],\n",
    "}\n",
    "\n",
    "# Grid search\n",
    "grid_search = GridSearchCV(gbt_model, param_grid, cv=5, scoring='accuracy')\n",
    "grid_search.fit(X_train, y_train)\n",
    "\n",
    "# Results\n",
    "print(\"Best Score: \", grid_search.best_score_, \"Best parameters:\", grid_search.best_params_, )\n",
    "mean = grid_search.cv_results_['mean_test_score']\n",
    "params = grid_search.cv_results_['params']\n",
    "for mean, param in zip(mean, params):\n",
    "    print(mean, param)"
   ]
  },
  {
   "cell_type": "markdown",
   "id": "8980fe1a",
   "metadata": {},
   "source": [
    "# GBT Rsults\n",
    "using the gridsearch we see that the best parameters are: {'learning_rate': 0.1, 'max_depth': 2, 'n_estimators': 150}"
   ]
  },
  {
   "cell_type": "code",
   "execution_count": null,
   "id": "0ce42e8c",
   "metadata": {},
   "outputs": [
    {
     "name": "stdout",
     "output_type": "stream",
     "text": [
      "Accuracy on training set: 1.0\n",
      "Accuracy on testing set: 0.8611111111111112\n"
     ]
    }
   ],
   "source": [
    "# Accuracy on training and testing set\n",
    "print(\"Accuracy on training set: {}\".format(grid_search.best_estimator_.score(X_train, y_train)))\n",
    "print(\"Accuracy on testing set: {}\".format(grid_search.best_estimator_.score(X_test, y_test)))"
   ]
  }
 ],
 "metadata": {
  "kernelspec": {
   "display_name": "Python 3 (ipykernel)",
   "language": "python",
   "name": "python3"
  },
  "language_info": {
   "codemirror_mode": {
    "name": "ipython",
    "version": 3
   },
   "file_extension": ".py",
   "mimetype": "text/x-python",
   "name": "python",
   "nbconvert_exporter": "python",
   "pygments_lexer": "ipython3",
   "version": "3.11.5"
  }
 },
 "nbformat": 4,
 "nbformat_minor": 5
}

{
 "cells": [
  {
   "cell_type": "markdown",
   "id": "278102b3",
   "metadata": {},
   "source": [
    "# Candidate Test 2022 Analysis Part 1\n",
    "\n",
    "This exercise focuses on the candidate tests from two television networks: DR and TV2. Data from both tests have been given on a scale of five responses (-2, -1, 0, 1, 2).\n",
    "\n",
    "---\n",
    "\n",
    "There are 6 datasets included in this exercise:\n",
    "\n",
    "- `alldata.xlsx`: Contains responses from both TV stations.\n",
    "- `drdata.xlsx`: Contains responses from DR.\n",
    "- `drq.xlsx`: Contains questions from DR.\n",
    "- `tv2data.xlsx`: Contains responses from TV2.\n",
    "- `tv2q.xlsx`: Contains questions from TV2.\n",
    "- `electeddata.xlsx`: Contains responses from both TV stations for candidates who were elected to the parliament. Note that 9 members are missing; 7 of them didn't take any of the tests. Additionally, some notable figures like Mette F. and Lars Løkke did not participate in any of the tests.\n",
    "\n",
    "---\n",
    "\n",
    "It's entirely up to you how you approach this data, but at a *minimum*, your analysis should include:\n",
    "- Age of the candidates grouped by parties.\n",
    "- An overview of the most \"confident\" candidates, i.e., those with the highest proportion of \"strongly agree\" or \"strongly disagree\" responses.\n",
    "- Differences in responses between candidates, both inter-party and intra-party, along with an explanation of which parties have the most internal disagreements.\n",
    "- Classification models to predict candidates' party affiliations. Investigate if there are any candidates who seem to be in the \"wrong\" party based on their political landscape positions. You must use the following three algorithms: **Decision Tree, Random Forrest, and Gradient Boosted Tree**, and **two other** classification algorithms of your choice.\n",
    "\n",
    "---\n",
    "\n",
    "The following parties are represented:\n",
    "\n",
    "| Party letter | Party name | Party name (English) | Political position |\n",
    "| :-: | :-: | :-: | :-: |\n",
    "| A | Socialdemokratiet | Social Democrats | Centre-left |\n",
    "| V | Venstre | Danish Liberal Party | Centre-right |\n",
    "| M | Moderaterne | Moderates | Centre-right |\n",
    "| F | Socialistisk Folkeparti | Socialist People's Party | Left-wing |\n",
    "| D | Danmarksdemokraterne | Denmark Democrats | Right-wing |\n",
    "| I | Liberal Alliance | Liberal Alliance | Right-wing |\n",
    "| C | Konservative | Conservative People's Party | Right-wing |\n",
    "| Æ | Enhedslisten | Red-Green Alliance | Far-left |\n",
    "| B | Radikale Venstre | Social Liberal Party | Centre-left |\n",
    "| D | Nye Borgerlige | New Right | Far-right |\n",
    "| Z | Alternativet | The Alternative | Centre-left |\n",
    "| O | Dansk Folkeparti | Danish People's Party | Far-right |\n",
    "| G | Frie Grønne | Free Greens | Centre-left |\n",
    "| K | Kristendemokraterne | Christian Democrats | Centre-right |\n",
    "\n",
    "Below you can see the results and the colors chosen to represent the parties. Use these colors in your analysis above.\n",
    "\n",
    "![Alt text](image-1.png)\n",
    "\n",
    "\n",
    "Others have undertaken similar analyses. You can draw inspiration from the following (use Google tranlsate if your Danish is rusty):\n",
    "\n",
    "- [Analysis of where individual candidates stand relative to each other and their parties](https://v2022.dumdata.dk/)\n",
    "- [Candidate Test 2022 – A deep dive into the data](https://kwedel.github.io/kandidattest2022/)\n",
    "- [The Political Landscape 2019](https://kwedel.github.io/kandidattest2019/)\n",
    "\n"
   ]
  },
  {
   "cell_type": "code",
   "execution_count": 8,
   "id": "de1bfc07",
   "metadata": {},
   "outputs": [
    {
     "name": "stdout",
     "output_type": "stream",
     "text": [
      "   530  531  533  534  535  537  538  540  541  543  ...  9a  9b  10a  10b  \\\n",
      "0   -1   -2    1   -2    2    1   -2    1    1    2  ...   2   0    1   -2   \n",
      "1    2    2   -1   -2   -1   -2    1   -2    2   -2  ...  -2   0   -1    2   \n",
      "2    2    1   -2   -2    1   -2    1   -1    1   -1  ...  -1  -2    0    2   \n",
      "3    2    1   -2   -1    1    1    1    1    1   -2  ...  -2   2    2    2   \n",
      "4    1    1   -2    2   -2    1   -2    1    2   -2  ...  -2   0   -1    0   \n",
      "\n",
      "   11a  11b  12a  12b               storkreds  alder  \n",
      "0   -2    1    1    1    Københavns Storkreds     78  \n",
      "1    1   -2    0    0          Fyns Storkreds     64  \n",
      "2    0   -1    1   -2     Bornholms Storkreds     37  \n",
      "3    2   -1    2    0  Nordjyllands Storkreds     28  \n",
      "4   -2    0    2   -2    Københavns Storkreds     58  \n",
      "\n",
      "[5 rows x 53 columns]\n"
     ]
    }
   ],
   "source": [
    "import pandas as pd\n",
    "\n",
    "data = pd.read_excel('alldata.xlsx')\n",
    "\n",
    "print(data.head())"
   ]
  },
  {
   "cell_type": "code",
   "execution_count": 10,
   "id": "abb02c9a",
   "metadata": {},
   "outputs": [
    {
     "name": "stdout",
     "output_type": "stream",
     "text": [
      "parti\n",
      "Danmarksdemokraterne                           51.216216\n",
      "Kristendemokraterne                            49.023810\n",
      "Løsgænger                                      48.000000\n",
      "Nye Borgerlige                                 47.568627\n",
      "Venstre                                        46.678571\n",
      "Alternativet                                   46.000000\n",
      "Dansk Folkeparti                               45.530612\n",
      "Radikale Venstre                               44.955224\n",
      "Socialdemokratiet                              44.344828\n",
      "Moderaterne                                    44.261905\n",
      "Det Konservative Folkeparti                    42.897959\n",
      "Socialistisk Folkeparti                        40.928571\n",
      "Enhedslisten                                   40.513514\n",
      "Liberal Alliance                               36.885714\n",
      "Frie Grønne, Danmarks Nye Venstrefløjsparti    34.807692\n",
      "Name: alder, dtype: float64\n"
     ]
    }
   ],
   "source": [
    "average_age = data.groupby('parti')['alder'].mean().sort_values(ascending=False)\n",
    "print(average_age)"
   ]
  },
  {
   "cell_type": "code",
   "execution_count": 27,
   "id": "6c00eeea",
   "metadata": {},
   "outputs": [
    {
     "name": "stdout",
     "output_type": "stream",
     "text": [
      "navn\n",
      "Søren Vanting          49\n",
      "Sarah Nørris           49\n",
      "Kim Andkjær Doberck    44\n",
      "Rashid Ali             43\n",
      "Mohamed Abdikarim      43\n",
      "Frank Sørensen         42\n",
      "Elise Bjerkrheim       42\n",
      "Lone Vase Langballe    42\n",
      "John Bjerg             42\n",
      "Jan Filbært            42\n",
      "dtype: int64\n"
     ]
    }
   ],
   "source": [
    "data_questions = data.drop(['alder', 'storkreds', 'parti'], axis=1)\n",
    "\n",
    "answered_with_2_or_minus_2 = data_questions.groupby('navn').apply(lambda x: (x == 2) | (x == -2)).sum(axis=1)\n",
    "\n",
    "print(answered_with_2_or_minus_2.reset_index(level=1, drop=True).sort_values(ascending=False).head(10))"
   ]
  },
  {
   "cell_type": "markdown",
   "id": "7f5a10d1",
   "metadata": {},
   "source": [
    "We are making dictionaries for each subject, that we want to compare the candidates in.\n",
    "\n",
    "The dictionary consists of a key, that is the id of the question. And a value that is a boolean that dictates if answering \"2\" to the question is progressive or conservative.\n",
    "\n",
    "E.g.: \"Den økonomiske ulighed i det danske samfund bør mindskes?\"\n",
    "- \"2\": \"Ulighed skal mindskes\" (progressive)\n",
    "- \"-2\": \"Ulighed skal øges/ikke ændres\" (conservative)"
   ]
  },
  {
   "cell_type": "code",
   "execution_count": null,
   "id": "74ac985a",
   "metadata": {},
   "outputs": [],
   "source": [
    "economy_questions = {\n",
    "  '4a': True,\n",
    "  '4b': True,\n",
    "  '541': True,\n",
    "  '531': True,\n",
    "  '537': False,\n",
    "}\n",
    "\n",
    "immigration_questions = {\n",
    "  '6a': True,\n",
    "  '6b': False,\n",
    "  '555': False,\n",
    "  '551': False,\n",
    "}\n",
    "\n",
    "social_questions = {\n",
    "  '10a': False,\n",
    "  '10b': True,\n",
    "  '544': True,\n",
    "  '538': True,\n",
    "  '550': True,\n",
    "  '553': False,\n",
    "}\n",
    "\n",
    "welfare_questions = {\n",
    "  '9a': False,\n",
    "  '557': True,\n",
    "  '548': True,\n",
    "  '543': False,\n",
    "  '545': True,\n",
    "}\n",
    "\n",
    "climate_questions = {\n",
    "  '559': True,\n",
    "  '546': False,\n",
    "  '530': True,\n",
    "  '1a': True,\n",
    "  '1b': True,\n",
    "  '7a': False,\n",
    "  '7b': False,\n",
    "}"
   ]
  }
 ],
 "metadata": {
  "kernelspec": {
   "display_name": "Python 3 (ipykernel)",
   "language": "python",
   "name": "python3"
  },
  "language_info": {
   "codemirror_mode": {
    "name": "ipython",
    "version": 3
   },
   "file_extension": ".py",
   "mimetype": "text/x-python",
   "name": "python",
   "nbconvert_exporter": "python",
   "pygments_lexer": "ipython3",
   "version": "3.11.7"
  }
 },
 "nbformat": 4,
 "nbformat_minor": 5
}

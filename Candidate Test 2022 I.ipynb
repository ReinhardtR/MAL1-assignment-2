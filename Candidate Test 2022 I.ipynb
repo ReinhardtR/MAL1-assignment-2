{
 "cells": [
  {
   "cell_type": "markdown",
   "id": "278102b3",
   "metadata": {},
   "source": [
    "# Candidate Test 2022 Analysis Part 1\n",
    "\n",
    "This exercise focuses on the candidate tests from two television networks: DR and TV2. Data from both tests have been given on a scale of five responses (-2, -1, 0, 1, 2).\n",
    "\n",
    "---\n",
    "\n",
    "There are 6 datasets included in this exercise:\n",
    "\n",
    "- `alldata.xlsx`: Contains responses from both TV stations.\n",
    "- `drdata.xlsx`: Contains responses from DR.\n",
    "- `drq.xlsx`: Contains questions from DR.\n",
    "- `tv2data.xlsx`: Contains responses from TV2.\n",
    "- `tv2q.xlsx`: Contains questions from TV2.\n",
    "- `electeddata.xlsx`: Contains responses from both TV stations for candidates who were elected to the parliament. Note that 9 members are missing; 7 of them didn't take any of the tests. Additionally, some notable figures like Mette F. and Lars Løkke did not participate in any of the tests.\n",
    "\n",
    "---\n",
    "\n",
    "It's entirely up to you how you approach this data, but at a *minimum*, your analysis should include:\n",
    "- Age of the candidates grouped by parties.\n",
    "- An overview of the most \"confident\" candidates, i.e., those with the highest proportion of \"strongly agree\" or \"strongly disagree\" responses.\n",
    "- Differences in responses between candidates, both inter-party and intra-party, along with an explanation of which parties have the most internal disagreements.\n",
    "- Classification models to predict candidates' party affiliations. Investigate if there are any candidates who seem to be in the \"wrong\" party based on their political landscape positions. You must use the following three algorithms: **Decision Tree, Random Forrest, and Gradient Boosted Tree**, and **two other** classification algorithms of your choice.\n",
    "\n",
    "---\n",
    "\n",
    "The following parties are represented:\n",
    "\n",
    "| Party letter | Party name | Party name (English) | Political position |\n",
    "| :-: | :-: | :-: | :-: |\n",
    "| A | Socialdemokratiet | Social Democrats | Centre-left |\n",
    "| V | Venstre | Danish Liberal Party | Centre-right |\n",
    "| M | Moderaterne | Moderates | Centre-right |\n",
    "| F | Socialistisk Folkeparti | Socialist People's Party | Left-wing |\n",
    "| D | Danmarksdemokraterne | Denmark Democrats | Right-wing |\n",
    "| I | Liberal Alliance | Liberal Alliance | Right-wing |\n",
    "| C | Konservative | Conservative People's Party | Right-wing |\n",
    "| Æ | Enhedslisten | Red-Green Alliance | Far-left |\n",
    "| B | Radikale Venstre | Social Liberal Party | Centre-left |\n",
    "| D | Nye Borgerlige | New Right | Far-right |\n",
    "| Z | Alternativet | The Alternative | Centre-left |\n",
    "| O | Dansk Folkeparti | Danish People's Party | Far-right |\n",
    "| G | Frie Grønne | Free Greens | Centre-left |\n",
    "| K | Kristendemokraterne | Christian Democrats | Centre-right |\n",
    "\n",
    "Below you can see the results and the colors chosen to represent the parties. Use these colors in your analysis above.\n",
    "\n",
    "![Alt text](image-1.png)\n",
    "\n",
    "\n",
    "Others have undertaken similar analyses. You can draw inspiration from the following (use Google tranlsate if your Danish is rusty):\n",
    "\n",
    "- [Analysis of where individual candidates stand relative to each other and their parties](https://v2022.dumdata.dk/)\n",
    "- [Candidate Test 2022 – A deep dive into the data](https://kwedel.github.io/kandidattest2022/)\n",
    "- [The Political Landscape 2019](https://kwedel.github.io/kandidattest2019/)\n",
    "\n"
   ]
  },
  {
   "cell_type": "code",
   "execution_count": 2,
   "id": "de1bfc07",
   "metadata": {},
   "outputs": [
    {
     "name": "stdout",
     "output_type": "stream",
     "text": [
      "   530  531  533  534  535  537  538  540  541  543  ...  9a  9b  10a  10b  \\\n",
      "0   -1   -2    1   -2    2    1   -2    1    1    2  ...   2   0    1   -2   \n",
      "1    2    2   -1   -2   -1   -2    1   -2    2   -2  ...  -2   0   -1    2   \n",
      "2    2    1   -2   -2    1   -2    1   -1    1   -1  ...  -1  -2    0    2   \n",
      "3    2    1   -2   -1    1    1    1    1    1   -2  ...  -2   2    2    2   \n",
      "4    1    1   -2    2   -2    1   -2    1    2   -2  ...  -2   0   -1    0   \n",
      "\n",
      "   11a  11b  12a  12b               storkreds  alder  \n",
      "0   -2    1    1    1    Københavns Storkreds     78  \n",
      "1    1   -2    0    0          Fyns Storkreds     64  \n",
      "2    0   -1    1   -2     Bornholms Storkreds     37  \n",
      "3    2   -1    2    0  Nordjyllands Storkreds     28  \n",
      "4   -2    0    2   -2    Københavns Storkreds     58  \n",
      "\n",
      "[5 rows x 53 columns]\n"
     ]
    }
   ],
   "source": [
    "import pandas as pd\n",
    "\n",
    "data = pd.read_excel('alldata.xlsx')\n",
    "\n",
    "print(data.head())"
   ]
  },
  {
   "cell_type": "code",
   "execution_count": 3,
   "id": "abb02c9a",
   "metadata": {},
   "outputs": [
    {
     "name": "stdout",
     "output_type": "stream",
     "text": [
      "parti\n",
      "Danmarksdemokraterne                           51.216216\n",
      "Kristendemokraterne                            49.023810\n",
      "Løsgænger                                      48.000000\n",
      "Nye Borgerlige                                 47.568627\n",
      "Venstre                                        46.678571\n",
      "Alternativet                                   46.000000\n",
      "Dansk Folkeparti                               45.530612\n",
      "Radikale Venstre                               44.955224\n",
      "Socialdemokratiet                              44.344828\n",
      "Moderaterne                                    44.261905\n",
      "Det Konservative Folkeparti                    42.897959\n",
      "Socialistisk Folkeparti                        40.928571\n",
      "Enhedslisten                                   40.513514\n",
      "Liberal Alliance                               36.885714\n",
      "Frie Grønne, Danmarks Nye Venstrefløjsparti    34.807692\n",
      "Name: alder, dtype: float64\n"
     ]
    }
   ],
   "source": [
    "average_age = data.groupby('parti')['alder'].mean().sort_values(ascending=False)\n",
    "print(average_age)"
   ]
  },
  {
   "cell_type": "code",
   "execution_count": 4,
   "id": "6c00eeea",
   "metadata": {},
   "outputs": [
    {
     "name": "stdout",
     "output_type": "stream",
     "text": [
      "navn\n",
      "Søren Vanting          49\n",
      "Sarah Nørris           49\n",
      "Kim Andkjær Doberck    44\n",
      "Rashid Ali             43\n",
      "Mohamed Abdikarim      43\n",
      "Frank Sørensen         42\n",
      "Elise Bjerkrheim       42\n",
      "Lone Vase Langballe    42\n",
      "John Bjerg             42\n",
      "Jan Filbært            42\n",
      "dtype: int64\n"
     ]
    }
   ],
   "source": [
    "data_questions = data.drop(['alder', 'storkreds', 'parti'], axis=1)\n",
    "\n",
    "answered_with_2_or_minus_2 = data_questions.groupby('navn').apply(lambda x: (x == 2) | (x == -2)).sum(axis=1)\n",
    "\n",
    "print(answered_with_2_or_minus_2.reset_index(level=1, drop=True).sort_values(ascending=False).head(10))"
   ]
  },
  {
   "cell_type": "markdown",
   "id": "7f5a10d1",
   "metadata": {},
   "source": [
    "We are making dictionaries for each subject, that we want to compare the candidates in.\n",
    "\n",
    "The dictionary consists of a key, that is the id of the question. And a value that is a boolean that dictates if answering \"2\" to the question is progressive or conservative.\n",
    "\n",
    "E.g.: \"Den økonomiske ulighed i det danske samfund bør mindskes?\"\n",
    "- \"2\": \"Ulighed skal mindskes\" (progressive)\n",
    "- \"-2\": \"Ulighed skal øges/ikke ændres\" (conservative)"
   ]
  },
  {
   "cell_type": "code",
   "execution_count": 5,
   "id": "74ac985a",
   "metadata": {},
   "outputs": [],
   "source": [
    "\n",
    "economy_questions = {\n",
    "    \"name\": \"Economy\",\n",
    "    \"questions\": {\n",
    "    '4a': True,\n",
    "    '4b': True,\n",
    "    '541': True,\n",
    "    '531': True,\n",
    "    '537': False,\n",
    "  }\n",
    "}\n",
    "\n",
    "immigration_questions = {\n",
    "    \"name\": \"Immigration\",\n",
    "    \"questions\": {\n",
    "  '6a': True,\n",
    "  '6b': False,\n",
    "  '555': False,\n",
    "  '551': False,\n",
    "  }\n",
    "}\n",
    "\n",
    "social_questions = {\n",
    "    \"name\": \"Social\",\n",
    "    \"questions\": {\n",
    "  '10a': False,\n",
    "  '10b': True,\n",
    "  '544': True,\n",
    "  '538': True,\n",
    "  '550': True,\n",
    "  '553': False,\n",
    "  }\n",
    "}\n",
    "\n",
    "welfare_questions = {\n",
    "    \"name\": \"Welfare\",\n",
    "    \"questions\": {\n",
    "  '9a': False,\n",
    "  '557': True,\n",
    "  '548': True,\n",
    "  '543': False,\n",
    "  '545': True,\n",
    "  }\n",
    "}\n",
    "\n",
    "climate_questions = {\n",
    "    \"name\": \"Climate\",\n",
    "    \"questions\": {\n",
    "  '559': True,\n",
    "  '546': False,\n",
    "  '530': True,\n",
    "  '1a': True,\n",
    "  '1b': True,\n",
    "  '7a': False,\n",
    "  '7b': False,\n",
    "  }\n",
    "}"
   ]
  },
  {
   "cell_type": "markdown",
   "id": "aa932ab7",
   "metadata": {},
   "source": []
  },
  {
   "cell_type": "code",
   "execution_count": 6,
   "id": "8c16add9",
   "metadata": {},
   "outputs": [
    {
     "name": "stdout",
     "output_type": "stream",
     "text": [
      "{'parti': 'Det Konservative Folkeparti', 'subjects': {'Economy': -3, 'Immigration': -1, 'Social': -8, 'Welfare': -4, 'Climate': -1}}\n"
     ]
    }
   ],
   "source": [
    "# Make a list of all objects\n",
    "question_subjects = [economy_questions, immigration_questions, social_questions, welfare_questions, climate_questions]\n",
    "\n",
    "CandidateOpinions = {}\n",
    "\n",
    "# Initialize CandidateOpinions for each person\n",
    "for index, row in data.iterrows():\n",
    "    CandidateOpinions[row['navn']] = {\n",
    "        'parti': row['parti'],\n",
    "        'subjects': {}\n",
    "    }\n",
    "    for subject in question_subjects:\n",
    "        CandidateOpinions[row['navn']]['subjects'][subject[\"name\"]] = 0  # Initialize each subject score to 0\n",
    "\n",
    "# Assuming data_questions is a dictionary containing questions and values\n",
    "for index, row in data.iterrows():\n",
    "    for subject in question_subjects:\n",
    "        for question, value in subject[\"questions\"].items():  # Use items() to iterate over keys and values\n",
    "            CandidateOpinions[row['navn']]['subjects'][subject[\"name\"]] += data.get(question, 0)[index] if value else -data.get(question, 0)[index]\n",
    "\n",
    "\n",
    "# Now we have a value for each subject for each person\n",
    "print(CandidateOpinions['Mette Abildgaard'])\n",
    "\n"
   ]
  },
  {
   "cell_type": "code",
   "execution_count": 7,
   "id": "5e3cebf7",
   "metadata": {},
   "outputs": [
    {
     "name": "stdout",
     "output_type": "stream",
     "text": [
      "{'Moderaterne': {'Economy': 0.35714285714285715, 'Immigration': 3.261904761904762, 'Social': -2.761904761904762, 'Welfare': 0.7619047619047619, 'Climate': -2.119047619047619}, 'Socialistisk Folkeparti': {'Economy': 8.485714285714286, 'Immigration': 6.328571428571428, 'Social': 5.371428571428571, 'Welfare': 6.085714285714285, 'Climate': 7.614285714285714}, 'Alternativet': {'Economy': 6.373134328358209, 'Immigration': 6.985074626865671, 'Social': 3.4029850746268657, 'Welfare': 5.029850746268656, 'Climate': 9.0}, 'Løsgænger': {'Economy': 1.6666666666666667, 'Immigration': 2.0, 'Social': -2.6666666666666665, 'Welfare': 0.6666666666666666, 'Climate': -5.0}, 'Enhedslisten': {'Economy': 8.81081081081081, 'Immigration': 7.581081081081081, 'Social': 6.297297297297297, 'Welfare': 5.72972972972973, 'Climate': 9.864864864864865}, 'Danmarksdemokraterne': {'Economy': -2.27027027027027, 'Immigration': -7.297297297297297, 'Social': -5.621621621621622, 'Welfare': -0.8378378378378378, 'Climate': -4.513513513513513}, 'Venstre': {'Economy': -3.7023809523809526, 'Immigration': -1.369047619047619, 'Social': -5.095238095238095, 'Welfare': -1.2976190476190477, 'Climate': -5.238095238095238}, 'Frie Grønne, Danmarks Nye Venstrefløjsparti': {'Economy': 8.615384615384615, 'Immigration': 7.846153846153846, 'Social': 5.038461538461538, 'Welfare': 6.923076923076923, 'Climate': 11.115384615384615}, 'Dansk Folkeparti': {'Economy': -0.673469387755102, 'Immigration': -7.081632653061225, 'Social': -5.326530612244898, 'Welfare': -1.6122448979591837, 'Climate': -6.877551020408164}, 'Kristendemokraterne': {'Economy': -0.047619047619047616, 'Immigration': 6.809523809523809, 'Social': -7.238095238095238, 'Welfare': 2.5, 'Climate': -2.5}, 'Liberal Alliance': {'Economy': -7.9714285714285715, 'Immigration': -0.15714285714285714, 'Social': -7.0285714285714285, 'Welfare': -3.257142857142857, 'Climate': -8.014285714285714}, 'Nye Borgerlige': {'Economy': -5.411764705882353, 'Immigration': -6.333333333333333, 'Social': -8.03921568627451, 'Welfare': -2.588235294117647, 'Climate': -12.549019607843137}, 'Det Konservative Folkeparti': {'Economy': -4.959183673469388, 'Immigration': -2.306122448979592, 'Social': -8.153061224489797, 'Welfare': -2.122448979591837, 'Climate': -5.153061224489796}, 'Radikale Venstre': {'Economy': 0.5671641791044776, 'Immigration': 7.388059701492537, 'Social': 2.388059701492537, 'Welfare': 4.746268656716418, 'Climate': 6.597014925373134}, 'Socialdemokratiet': {'Economy': 3.045977011494253, 'Immigration': -2.9080459770114944, 'Social': 2.7241379310344827, 'Welfare': 2.7241379310344827, 'Climate': 3.160919540229885}}\n"
     ]
    }
   ],
   "source": [
    "PartyOpinions = {}\n",
    "\n",
    "# Initialize PartyOpinions for each party\n",
    "for party in data['parti'].unique():\n",
    "    PartyOpinions[party] = {}\n",
    "    for subject in question_subjects:\n",
    "        PartyOpinions[party][subject[\"name\"]] = 0  # Initialize each subject score to 0\n",
    "\n",
    "\n",
    "for candidate in CandidateOpinions:\n",
    "    for subject in question_subjects:\n",
    "        PartyOpinions[CandidateOpinions[candidate]['parti']][subject[\"name\"]] += CandidateOpinions[candidate]['subjects'][subject[\"name\"]]\n",
    "\n",
    "party_sizes = data['parti'].value_counts()\n",
    "\n",
    "for party in PartyOpinions:\n",
    "    for subject in question_subjects:\n",
    "        PartyOpinions[party][subject[\"name\"]] /= party_sizes[party]\n",
    "\n",
    "print(PartyOpinions)\n"
   ]
  },
  {
   "cell_type": "code",
   "execution_count": 8,
   "id": "2704996f",
   "metadata": {},
   "outputs": [
    {
     "data": {
      "image/png": "[encoded data removed]",
      "text/plain": [
       "<Figure size 2000x500 with 1 Axes>"
      ]
     },
     "metadata": {},
     "output_type": "display_data"
    }
   ],
   "source": [
    "party_data = {\n",
    "    \"Names\": list(PartyOpinions.keys()),\n",
    "    \"Economy\": [PartyOpinions[party][\"Economy\"] for party in PartyOpinions],\n",
    "    \"Social\": [PartyOpinions[party][\"Social\"] for party in PartyOpinions],\n",
    "    \"Immigration\": [PartyOpinions[party][\"Immigration\"] for party in PartyOpinions],\n",
    "    \"Welfare\": [PartyOpinions[party][\"Welfare\"] for party in PartyOpinions],\n",
    "    \"Climate\": [PartyOpinions[party][\"Climate\"] for party in PartyOpinions] \n",
    "}\n",
    "\n",
    "\n",
    "\n",
    "df = pd.DataFrame(party_data)\n",
    "\n",
    "# Calculate the average score for each party\n",
    "df['Average'] = df.copy().drop('Names', axis=1).mean(axis=1)\n",
    "\n",
    "# Sort the DataFrame by the 'Average' column in descending order\n",
    "df_sorted = df.sort_values(by='Average', ascending=False)\n",
    "\n",
    "df_sorted.set_index('Names', inplace=True)\n",
    "\n",
    "# Plot the data using pandas plot() method\n",
    "ax = df_sorted.plot(kind='bar', figsize=(20, 5))\n",
    "\n",
    "# Add labels and title\n",
    "ax.set_xlabel('Party')\n",
    "ax.set_ylabel('Average Opinions')\n",
    "ax.set_title('Parties average opinions on different subjects')\n",
    "ax.grid(axis='y', linestyle='--', alpha=0.7)  # Add horizontal grid lines"
   ]
  },
  {
   "cell_type": "markdown",
   "id": "1eaf87e4",
   "metadata": {},
   "source": [
    "## So what do we see? \n",
    "\n",
    "We have ordered the parties in the order of most extreme left to most extreme right. To see which parties are the most extreme, and which are the most moderate.\n"
   ]
  },
  {
   "cell_type": "markdown",
   "id": "e83a9b26",
   "metadata": {},
   "source": [
    "#Insert Inter party differences here\n",
    "\n",
    "1. Beregn den gennemsnittelige uenighed i hvert parti, sammenlign dem med hinanden for at finde det mest \"splittede\" parti. \n",
    "2. Ved at lave noget boxplot så har vi mulighed for at se om ét parti's extremer værdier passer med gennemsnittelige værdier for at andet parti. "
   ]
  },
  {
   "cell_type": "markdown",
   "id": "0525b6e5",
   "metadata": {},
   "source": [
    "# Model training"
   ]
  },
  {
   "cell_type": "markdown",
   "id": "687cf095",
   "metadata": {},
   "source": [
    "# SVM"
   ]
  },
  {
   "cell_type": "code",
   "execution_count": 9,
   "id": "941a9518",
   "metadata": {},
   "outputs": [],
   "source": [
    "from sklearn.model_selection import train_test_split\n",
    "from sklearn.svm import SVC\n",
    "from sklearn.preprocessing import MinMaxScaler"
   ]
  },
  {
   "cell_type": "code",
   "execution_count": 10,
   "id": "28935b38",
   "metadata": {},
   "outputs": [
    {
     "name": "stdout",
     "output_type": "stream",
     "text": [
      "Accuracy on training set: 0.97\n",
      "Accuracy on test set: 0.91\n"
     ]
    }
   ],
   "source": [
    "# Without age\n",
    "X = data.copy().drop(['parti', 'alder', 'storkreds', 'navn'], axis=1)\n",
    "y = data['parti']\n",
    "X_train, X_test, y_train, y_test = train_test_split(X, y, \n",
    "                                                   stratify=y, \n",
    "                                                   random_state=42)\n",
    "svc = SVC()\n",
    "svc.fit(X_train, y_train)\n",
    "\n",
    "print(\"Accuracy on training set: {:.2f}\".format(svc.score(X_train, y_train)))\n",
    "print(\"Accuracy on test set: {:.2f}\".format(svc.score(X_test, y_test)))"
   ]
  },
  {
   "cell_type": "code",
   "execution_count": 11,
   "id": "59f6730d",
   "metadata": {},
   "outputs": [
    {
     "name": "stdout",
     "output_type": "stream",
     "text": [
      "Accuracy on training set: 0.71\n",
      "Accuracy on test set: 0.70\n"
     ]
    }
   ],
   "source": [
    "# With age, no scaling\n",
    "X = data.copy().drop(['parti', 'storkreds', 'navn'], axis=1)\n",
    "y = data['parti']\n",
    "X_train, X_test, y_train, y_test = train_test_split(X, y, \n",
    "                                                   stratify=y, \n",
    "                                                   random_state=42)\n",
    "svc = SVC()\n",
    "svc.fit(X_train, y_train)\n",
    "\n",
    "print(\"Accuracy on training set: {:.2f}\".format(svc.score(X_train, y_train)))\n",
    "print(\"Accuracy on test set: {:.2f}\".format(svc.score(X_test, y_test)))"
   ]
  },
  {
   "cell_type": "code",
   "execution_count": 12,
   "id": "f761b4ec",
   "metadata": {},
   "outputs": [
    {
     "name": "stdout",
     "output_type": "stream",
     "text": [
      "Accuracy on training set: 0.98\n",
      "Accuracy on test set: 0.91\n"
     ]
    }
   ],
   "source": [
    "# Age with scaling\n",
    "X = data.copy().drop(['parti', 'storkreds', 'navn'], axis=1)\n",
    "y = data['parti']\n",
    "X_train, X_test, y_train, y_test = train_test_split(X, y, \n",
    "                                                   stratify=y, \n",
    "                                                   random_state=42)\n",
    "\n",
    "scaler = MinMaxScaler()\n",
    "scaler.fit(X_train)\n",
    "X_train_scaled = scaler.transform(X_train)\n",
    "X_test_scaled = scaler.transform(X_test)\n",
    "\n",
    "svc.fit(X_train_scaled, y_train)\n",
    "print(\"Accuracy on training set: {:.2f}\".format(svc.score(X_train_scaled, y_train)))\n",
    "print(\"Accuracy on test set: {:.2f}\".format(svc.score(X_test_scaled, y_test)))"
   ]
  },
  {
   "cell_type": "markdown",
   "id": "b53eb377",
   "metadata": {},
   "source": [
    "# Optimizing\n",
    "\n",
    "Now we will try to optimize the models using GridSearchCV. "
   ]
  },
  {
   "cell_type": "code",
   "execution_count": 13,
   "id": "66638fbe",
   "metadata": {},
   "outputs": [
    {
     "name": "stderr",
     "output_type": "stream",
     "text": [
      "/Users/reinhardt/anaconda3/lib/python3.11/site-packages/sklearn/model_selection/_split.py:700: UserWarning: The least populated class in y has only 2 members, which is less than n_splits=5.\n",
      "  warnings.warn(\n"
     ]
    },
    {
     "name": "stdout",
     "output_type": "stream",
     "text": [
      "Best Score:  0.9076923076923077 Best parameters: {'C': 1, 'gamma': 0.1}\n",
      "0.1123076923076923 {'C': 0.001, 'gamma': 0.001}\n",
      "0.1123076923076923 {'C': 0.001, 'gamma': 0.01}\n",
      "0.1123076923076923 {'C': 0.001, 'gamma': 0.1}\n",
      "0.1123076923076923 {'C': 0.001, 'gamma': 1}\n",
      "0.1123076923076923 {'C': 0.001, 'gamma': 10}\n",
      "0.1123076923076923 {'C': 0.001, 'gamma': 100}\n",
      "0.1123076923076923 {'C': 0.01, 'gamma': 0.001}\n",
      "0.1123076923076923 {'C': 0.01, 'gamma': 0.01}\n",
      "0.1123076923076923 {'C': 0.01, 'gamma': 0.1}\n",
      "0.1123076923076923 {'C': 0.01, 'gamma': 1}\n",
      "0.1123076923076923 {'C': 0.01, 'gamma': 10}\n",
      "0.1123076923076923 {'C': 0.01, 'gamma': 100}\n",
      "0.1123076923076923 {'C': 0.1, 'gamma': 0.001}\n",
      "0.1707692307692308 {'C': 0.1, 'gamma': 0.01}\n",
      "0.5753846153846154 {'C': 0.1, 'gamma': 0.1}\n",
      "0.12 {'C': 0.1, 'gamma': 1}\n",
      "0.1123076923076923 {'C': 0.1, 'gamma': 10}\n",
      "0.1123076923076923 {'C': 0.1, 'gamma': 100}\n",
      "0.16153846153846155 {'C': 1, 'gamma': 0.001}\n",
      "0.8169230769230769 {'C': 1, 'gamma': 0.01}\n",
      "0.9076923076923077 {'C': 1, 'gamma': 0.1}\n",
      "0.716923076923077 {'C': 1, 'gamma': 1}\n",
      "0.11846153846153847 {'C': 1, 'gamma': 10}\n",
      "0.1123076923076923 {'C': 1, 'gamma': 100}\n",
      "0.8307692307692307 {'C': 10, 'gamma': 0.001}\n",
      "0.9030769230769231 {'C': 10, 'gamma': 0.01}\n",
      "0.8907692307692308 {'C': 10, 'gamma': 0.1}\n",
      "0.7430769230769231 {'C': 10, 'gamma': 1}\n",
      "0.11846153846153847 {'C': 10, 'gamma': 10}\n",
      "0.1123076923076923 {'C': 10, 'gamma': 100}\n",
      "0.9015384615384615 {'C': 100, 'gamma': 0.001}\n",
      "0.883076923076923 {'C': 100, 'gamma': 0.01}\n",
      "0.8876923076923078 {'C': 100, 'gamma': 0.1}\n",
      "0.7430769230769231 {'C': 100, 'gamma': 1}\n",
      "0.11846153846153847 {'C': 100, 'gamma': 10}\n",
      "0.1123076923076923 {'C': 100, 'gamma': 100}\n"
     ]
    }
   ],
   "source": [
    "from sklearn.model_selection import cross_val_score\n",
    "from sklearn.model_selection import GridSearchCV\n",
    "\n",
    "model = SVC(random_state=42)\n",
    "param_grid = {\n",
    "    'C': [0.001, 0.01, 0.1, 1, 10, 100],\n",
    "    'gamma': [0.001, 0.01, 0.1, 1, 10, 100]\n",
    "}\n",
    "\n",
    "# Grid search\n",
    "grid_search = GridSearchCV(model, param_grid, cv=5)\n",
    "grid_search.fit(X_train_scaled, y_train)\n",
    "\n",
    "# Results\n",
    "print(\"Best Score: \", grid_search.best_score_, \"Best parameters:\", grid_search.best_params_, )\n",
    "mean = grid_search.cv_results_['mean_test_score']\n",
    "params = grid_search.cv_results_['params']\n",
    "\n",
    "for mean, param in zip(mean, params):\n",
    "    print(mean, param)"
   ]
  },
  {
   "cell_type": "code",
   "execution_count": 14,
   "id": "e46a21ab",
   "metadata": {},
   "outputs": [
    {
     "name": "stdout",
     "output_type": "stream",
     "text": [
      "Accuracy on testing set: 0.9216589861751152\n"
     ]
    }
   ],
   "source": [
    "# Testing with test data from most optimal hyper parameters\n",
    "\n",
    "svm_test_result = grid_search.best_estimator_.score(X_test_scaled, y_test)\n",
    "print(\"Accuracy on testing set: {}\".format(svm_test_result))\n"
   ]
  },
  {
   "cell_type": "markdown",
   "id": "f03a0575",
   "metadata": {},
   "source": [
    "# SVM Conclusion\n",
    "\n",
    "We found out that using the parameters: {'C': 1, 'gamma': 0.1, 'kernel': 'rbf'} we get the best results.\n",
    "Including the ages and scaling them. "
   ]
  },
  {
   "cell_type": "markdown",
   "id": "54437561",
   "metadata": {},
   "source": [
    "# KNN"
   ]
  },
  {
   "cell_type": "code",
   "execution_count": 15,
   "id": "fdf801bd",
   "metadata": {},
   "outputs": [],
   "source": [
    "from sklearn.neighbors import KNeighborsClassifier\n"
   ]
  },
  {
   "cell_type": "code",
   "execution_count": 16,
   "id": "85ee07ff",
   "metadata": {},
   "outputs": [
    {
     "name": "stderr",
     "output_type": "stream",
     "text": [
      "/Users/reinhardt/anaconda3/lib/python3.11/site-packages/sklearn/model_selection/_split.py:700: UserWarning: The least populated class in y has only 2 members, which is less than n_splits=5.\n",
      "  warnings.warn(\n"
     ]
    },
    {
     "name": "stdout",
     "output_type": "stream",
     "text": [
      "Best Score:  0.8769230769230768 Best parameters: {'n_neighbors': 11}\n",
      "0.8523076923076923 {'n_neighbors': 1}\n",
      "0.8646153846153846 {'n_neighbors': 3}\n",
      "0.8723076923076925 {'n_neighbors': 5}\n",
      "0.8738461538461539 {'n_neighbors': 7}\n",
      "0.8723076923076922 {'n_neighbors': 9}\n",
      "0.8769230769230768 {'n_neighbors': 11}\n",
      "0.8707692307692309 {'n_neighbors': 13}\n",
      "0.8676923076923078 {'n_neighbors': 15}\n",
      "0.8723076923076925 {'n_neighbors': 17}\n",
      "0.8676923076923077 {'n_neighbors': 19}\n",
      "0.8646153846153846 {'n_neighbors': 21}\n",
      "0.8615384615384617 {'n_neighbors': 23}\n",
      "0.86 {'n_neighbors': 25}\n",
      "0.8553846153846154 {'n_neighbors': 27}\n",
      "0.8507692307692307 {'n_neighbors': 29}\n"
     ]
    }
   ],
   "source": [
    "model = KNeighborsClassifier()\n",
    "param_grid = {\n",
    "    \"n_neighbors\": [1, 3, 5, 7, 9, 11, 13, 15, 17, 19, 21, 23, 25, 27, 29], # We will try different numbers of neighbors\n",
    "}\n",
    "\n",
    "# Grid search\n",
    "grid_search = GridSearchCV(model, param_grid, cv=5, scoring='accuracy')\n",
    "grid_search.fit(X_train_scaled, y_train)\n",
    "\n",
    "# Results\n",
    "print(\"Best Score: \", grid_search.best_score_, \"Best parameters:\", grid_search.best_params_, )\n",
    "mean = grid_search.cv_results_['mean_test_score']\n",
    "params = grid_search.cv_results_['params']\n",
    "for mean, param in zip(mean, params):\n",
    "    print(mean, param)"
   ]
  },
  {
   "cell_type": "markdown",
   "id": "69c0531f",
   "metadata": {},
   "source": [
    "From here we can see that 11 neighbors seems to be the best choice. "
   ]
  },
  {
   "cell_type": "code",
   "execution_count": 17,
   "id": "1274dea0",
   "metadata": {},
   "outputs": [
    {
     "name": "stdout",
     "output_type": "stream",
     "text": [
      "Accuracy on training set: 0.9046153846153846\n",
      "Accuracy on testing set: 0.8940092165898618\n"
     ]
    }
   ],
   "source": [
    "print(\"Accuracy on training set: {}\".format(grid_search.best_estimator_.score(X_train_scaled, y_train)))\n",
    "print(\"Accuracy on testing set: {}\".format(grid_search.best_estimator_.score(X_test_scaled, y_test)))"
   ]
  },
  {
   "cell_type": "markdown",
   "id": "d550867e",
   "metadata": {},
   "source": [
    "# Tree-based models"
   ]
  },
  {
   "cell_type": "markdown",
   "id": "7af752eb",
   "metadata": {},
   "source": [
    "We do not use the scaled dataset, because decision trees are generally not sensitive to the scale of features."
   ]
  },
  {
   "cell_type": "markdown",
   "id": "f81dfd57",
   "metadata": {},
   "source": [
    "## Random forest"
   ]
  },
  {
   "cell_type": "code",
   "execution_count": 18,
   "id": "8801fa1b",
   "metadata": {},
   "outputs": [
    {
     "name": "stderr",
     "output_type": "stream",
     "text": [
      "/Users/reinhardt/anaconda3/lib/python3.11/site-packages/sklearn/model_selection/_split.py:700: UserWarning: The least populated class in y has only 2 members, which is less than n_splits=5.\n",
      "  warnings.warn(\n"
     ]
    },
    {
     "name": "stdout",
     "output_type": "stream",
     "text": [
      "Best Score:  0.9046153846153846 Best parameters: {'max_depth': 20, 'min_samples_leaf': 2, 'min_samples_split': 2, 'n_estimators': 150}\n",
      "0.883076923076923 {'max_depth': None, 'min_samples_leaf': 1, 'min_samples_split': 2, 'n_estimators': 50}\n",
      "0.8953846153846154 {'max_depth': None, 'min_samples_leaf': 1, 'min_samples_split': 2, 'n_estimators': 100}\n",
      "0.8953846153846154 {'max_depth': None, 'min_samples_leaf': 1, 'min_samples_split': 2, 'n_estimators': 150}\n",
      "0.8830769230769231 {'max_depth': None, 'min_samples_leaf': 1, 'min_samples_split': 5, 'n_estimators': 50}\n",
      "0.8969230769230769 {'max_depth': None, 'min_samples_leaf': 1, 'min_samples_split': 5, 'n_estimators': 100}\n",
      "0.8846153846153845 {'max_depth': None, 'min_samples_leaf': 1, 'min_samples_split': 5, 'n_estimators': 150}\n",
      "0.889230769230769 {'max_depth': None, 'min_samples_leaf': 1, 'min_samples_split': 10, 'n_estimators': 50}\n",
      "0.8815384615384614 {'max_depth': None, 'min_samples_leaf': 1, 'min_samples_split': 10, 'n_estimators': 100}\n",
      "0.8923076923076924 {'max_depth': None, 'min_samples_leaf': 1, 'min_samples_split': 10, 'n_estimators': 150}\n",
      "0.8846153846153845 {'max_depth': None, 'min_samples_leaf': 2, 'min_samples_split': 2, 'n_estimators': 50}\n",
      "0.8876923076923078 {'max_depth': None, 'min_samples_leaf': 2, 'min_samples_split': 2, 'n_estimators': 100}\n",
      "0.8953846153846154 {'max_depth': None, 'min_samples_leaf': 2, 'min_samples_split': 2, 'n_estimators': 150}\n",
      "0.883076923076923 {'max_depth': None, 'min_samples_leaf': 2, 'min_samples_split': 5, 'n_estimators': 50}\n",
      "0.9 {'max_depth': None, 'min_samples_leaf': 2, 'min_samples_split': 5, 'n_estimators': 100}\n",
      "0.8876923076923078 {'max_depth': None, 'min_samples_leaf': 2, 'min_samples_split': 5, 'n_estimators': 150}\n",
      "0.8815384615384614 {'max_depth': None, 'min_samples_leaf': 2, 'min_samples_split': 10, 'n_estimators': 50}\n",
      "0.8753846153846153 {'max_depth': None, 'min_samples_leaf': 2, 'min_samples_split': 10, 'n_estimators': 100}\n",
      "0.8846153846153845 {'max_depth': None, 'min_samples_leaf': 2, 'min_samples_split': 10, 'n_estimators': 150}\n",
      "0.8769230769230768 {'max_depth': None, 'min_samples_leaf': 4, 'min_samples_split': 2, 'n_estimators': 50}\n",
      "0.8876923076923076 {'max_depth': None, 'min_samples_leaf': 4, 'min_samples_split': 2, 'n_estimators': 100}\n",
      "0.8907692307692308 {'max_depth': None, 'min_samples_leaf': 4, 'min_samples_split': 2, 'n_estimators': 150}\n",
      "0.8769230769230768 {'max_depth': None, 'min_samples_leaf': 4, 'min_samples_split': 5, 'n_estimators': 50}\n",
      "0.8892307692307693 {'max_depth': None, 'min_samples_leaf': 4, 'min_samples_split': 5, 'n_estimators': 100}\n",
      "0.8938461538461538 {'max_depth': None, 'min_samples_leaf': 4, 'min_samples_split': 5, 'n_estimators': 150}\n",
      "0.8799999999999999 {'max_depth': None, 'min_samples_leaf': 4, 'min_samples_split': 10, 'n_estimators': 50}\n",
      "0.8830769230769231 {'max_depth': None, 'min_samples_leaf': 4, 'min_samples_split': 10, 'n_estimators': 100}\n",
      "0.8861538461538462 {'max_depth': None, 'min_samples_leaf': 4, 'min_samples_split': 10, 'n_estimators': 150}\n",
      "0.8892307692307693 {'max_depth': 10, 'min_samples_leaf': 1, 'min_samples_split': 2, 'n_estimators': 50}\n",
      "0.8984615384615384 {'max_depth': 10, 'min_samples_leaf': 1, 'min_samples_split': 2, 'n_estimators': 100}\n",
      "0.8969230769230769 {'max_depth': 10, 'min_samples_leaf': 1, 'min_samples_split': 2, 'n_estimators': 150}\n",
      "0.8815384615384614 {'max_depth': 10, 'min_samples_leaf': 1, 'min_samples_split': 5, 'n_estimators': 50}\n",
      "0.8876923076923078 {'max_depth': 10, 'min_samples_leaf': 1, 'min_samples_split': 5, 'n_estimators': 100}\n",
      "0.8846153846153847 {'max_depth': 10, 'min_samples_leaf': 1, 'min_samples_split': 5, 'n_estimators': 150}\n",
      "0.8784615384615384 {'max_depth': 10, 'min_samples_leaf': 1, 'min_samples_split': 10, 'n_estimators': 50}\n",
      "0.8969230769230769 {'max_depth': 10, 'min_samples_leaf': 1, 'min_samples_split': 10, 'n_estimators': 100}\n",
      "0.8861538461538462 {'max_depth': 10, 'min_samples_leaf': 1, 'min_samples_split': 10, 'n_estimators': 150}\n",
      "0.8984615384615383 {'max_depth': 10, 'min_samples_leaf': 2, 'min_samples_split': 2, 'n_estimators': 50}\n",
      "0.9 {'max_depth': 10, 'min_samples_leaf': 2, 'min_samples_split': 2, 'n_estimators': 100}\n",
      "0.8907692307692308 {'max_depth': 10, 'min_samples_leaf': 2, 'min_samples_split': 2, 'n_estimators': 150}\n",
      "0.9 {'max_depth': 10, 'min_samples_leaf': 2, 'min_samples_split': 5, 'n_estimators': 50}\n",
      "0.8923076923076924 {'max_depth': 10, 'min_samples_leaf': 2, 'min_samples_split': 5, 'n_estimators': 100}\n",
      "0.8923076923076924 {'max_depth': 10, 'min_samples_leaf': 2, 'min_samples_split': 5, 'n_estimators': 150}\n",
      "0.866153846153846 {'max_depth': 10, 'min_samples_leaf': 2, 'min_samples_split': 10, 'n_estimators': 50}\n",
      "0.8984615384615384 {'max_depth': 10, 'min_samples_leaf': 2, 'min_samples_split': 10, 'n_estimators': 100}\n",
      "0.8861538461538462 {'max_depth': 10, 'min_samples_leaf': 2, 'min_samples_split': 10, 'n_estimators': 150}\n",
      "0.8799999999999999 {'max_depth': 10, 'min_samples_leaf': 4, 'min_samples_split': 2, 'n_estimators': 50}\n",
      "0.8892307692307693 {'max_depth': 10, 'min_samples_leaf': 4, 'min_samples_split': 2, 'n_estimators': 100}\n",
      "0.8846153846153847 {'max_depth': 10, 'min_samples_leaf': 4, 'min_samples_split': 2, 'n_estimators': 150}\n",
      "0.8876923076923078 {'max_depth': 10, 'min_samples_leaf': 4, 'min_samples_split': 5, 'n_estimators': 50}\n",
      "0.8923076923076924 {'max_depth': 10, 'min_samples_leaf': 4, 'min_samples_split': 5, 'n_estimators': 100}\n",
      "0.8799999999999999 {'max_depth': 10, 'min_samples_leaf': 4, 'min_samples_split': 5, 'n_estimators': 150}\n",
      "0.8723076923076922 {'max_depth': 10, 'min_samples_leaf': 4, 'min_samples_split': 10, 'n_estimators': 50}\n",
      "0.8923076923076924 {'max_depth': 10, 'min_samples_leaf': 4, 'min_samples_split': 10, 'n_estimators': 100}\n",
      "0.8815384615384614 {'max_depth': 10, 'min_samples_leaf': 4, 'min_samples_split': 10, 'n_estimators': 150}\n",
      "0.883076923076923 {'max_depth': 20, 'min_samples_leaf': 1, 'min_samples_split': 2, 'n_estimators': 50}\n",
      "0.8923076923076924 {'max_depth': 20, 'min_samples_leaf': 1, 'min_samples_split': 2, 'n_estimators': 100}\n",
      "0.8907692307692308 {'max_depth': 20, 'min_samples_leaf': 1, 'min_samples_split': 2, 'n_estimators': 150}\n",
      "0.8861538461538462 {'max_depth': 20, 'min_samples_leaf': 1, 'min_samples_split': 5, 'n_estimators': 50}\n",
      "0.8923076923076924 {'max_depth': 20, 'min_samples_leaf': 1, 'min_samples_split': 5, 'n_estimators': 100}\n",
      "0.8861538461538461 {'max_depth': 20, 'min_samples_leaf': 1, 'min_samples_split': 5, 'n_estimators': 150}\n",
      "0.8784615384615384 {'max_depth': 20, 'min_samples_leaf': 1, 'min_samples_split': 10, 'n_estimators': 50}\n",
      "0.8861538461538462 {'max_depth': 20, 'min_samples_leaf': 1, 'min_samples_split': 10, 'n_estimators': 100}\n",
      "0.8969230769230769 {'max_depth': 20, 'min_samples_leaf': 1, 'min_samples_split': 10, 'n_estimators': 150}\n",
      "0.8861538461538462 {'max_depth': 20, 'min_samples_leaf': 2, 'min_samples_split': 2, 'n_estimators': 50}\n",
      "0.9030769230769231 {'max_depth': 20, 'min_samples_leaf': 2, 'min_samples_split': 2, 'n_estimators': 100}\n",
      "0.9046153846153846 {'max_depth': 20, 'min_samples_leaf': 2, 'min_samples_split': 2, 'n_estimators': 150}\n",
      "0.8799999999999999 {'max_depth': 20, 'min_samples_leaf': 2, 'min_samples_split': 5, 'n_estimators': 50}\n",
      "0.8953846153846154 {'max_depth': 20, 'min_samples_leaf': 2, 'min_samples_split': 5, 'n_estimators': 100}\n",
      "0.9 {'max_depth': 20, 'min_samples_leaf': 2, 'min_samples_split': 5, 'n_estimators': 150}\n",
      "0.8799999999999999 {'max_depth': 20, 'min_samples_leaf': 2, 'min_samples_split': 10, 'n_estimators': 50}\n",
      "0.8938461538461538 {'max_depth': 20, 'min_samples_leaf': 2, 'min_samples_split': 10, 'n_estimators': 100}\n",
      "0.8923076923076924 {'max_depth': 20, 'min_samples_leaf': 2, 'min_samples_split': 10, 'n_estimators': 150}\n",
      "0.8861538461538461 {'max_depth': 20, 'min_samples_leaf': 4, 'min_samples_split': 2, 'n_estimators': 50}\n",
      "0.8923076923076921 {'max_depth': 20, 'min_samples_leaf': 4, 'min_samples_split': 2, 'n_estimators': 100}\n",
      "0.8923076923076924 {'max_depth': 20, 'min_samples_leaf': 4, 'min_samples_split': 2, 'n_estimators': 150}\n",
      "0.8815384615384614 {'max_depth': 20, 'min_samples_leaf': 4, 'min_samples_split': 5, 'n_estimators': 50}\n",
      "0.8861538461538462 {'max_depth': 20, 'min_samples_leaf': 4, 'min_samples_split': 5, 'n_estimators': 100}\n",
      "0.8953846153846154 {'max_depth': 20, 'min_samples_leaf': 4, 'min_samples_split': 5, 'n_estimators': 150}\n",
      "0.8799999999999999 {'max_depth': 20, 'min_samples_leaf': 4, 'min_samples_split': 10, 'n_estimators': 50}\n",
      "0.8892307692307693 {'max_depth': 20, 'min_samples_leaf': 4, 'min_samples_split': 10, 'n_estimators': 100}\n",
      "0.8907692307692308 {'max_depth': 20, 'min_samples_leaf': 4, 'min_samples_split': 10, 'n_estimators': 150}\n"
     ]
    }
   ],
   "source": [
    "from sklearn.ensemble import RandomForestClassifier\n",
    "\n",
    "model = RandomForestClassifier(random_state=42)\n",
    "param_grid = {\n",
    "    'n_estimators': [50, 100, 150],\n",
    "    'max_depth': [None, 10, 20],\n",
    "    'min_samples_split': [2, 5, 10],\n",
    "    'min_samples_leaf': [1, 2, 4] \n",
    "}\n",
    "\n",
    "# Grid search\n",
    "grid_search = GridSearchCV(model, param_grid, cv=5, scoring='accuracy')\n",
    "grid_search.fit(X_train, y_train)\n",
    "\n",
    "# Results\n",
    "print(\"Best Score: \", grid_search.best_score_, \"Best parameters:\", grid_search.best_params_, )\n",
    "mean = grid_search.cv_results_['mean_test_score']\n",
    "params = grid_search.cv_results_['params']\n",
    "for mean, param in zip(mean, params):\n",
    "    print(mean, param)"
   ]
  },
  {
   "cell_type": "markdown",
   "id": "b42cd584",
   "metadata": {},
   "source": [
    "We can now determine that the best hyperparameters are: {'max_depth': None, 'min_samples_leaf': 2, 'min_samples_split': 2, 'n_estimators': 150}.\n",
    "We might want to limit max_depth in the future to improve the perfomance of the model."
   ]
  },
  {
   "cell_type": "code",
   "execution_count": 19,
   "id": "467ae454",
   "metadata": {},
   "outputs": [
    {
     "name": "stdout",
     "output_type": "stream",
     "text": [
      "Accuracy on training set: 0.9984615384615385\n",
      "Accuracy on testing set: 0.9078341013824884\n"
     ]
    }
   ],
   "source": [
    "print(\"Accuracy on training set: {}\".format(grid_search.best_estimator_.score(X_train, y_train)))\n",
    "print(\"Accuracy on testing set: {}\".format(grid_search.best_estimator_.score(X_test, y_test)))"
   ]
  },
  {
   "cell_type": "markdown",
   "id": "0e127ad9",
   "metadata": {},
   "source": [
    "## Descision tree"
   ]
  },
  {
   "cell_type": "code",
   "execution_count": 20,
   "id": "9bdcd1f1",
   "metadata": {},
   "outputs": [
    {
     "name": "stderr",
     "output_type": "stream",
     "text": [
      "/Users/reinhardt/anaconda3/lib/python3.11/site-packages/sklearn/model_selection/_split.py:700: UserWarning: The least populated class in y has only 2 members, which is less than n_splits=5.\n",
      "  warnings.warn(\n"
     ]
    },
    {
     "name": "stdout",
     "output_type": "stream",
     "text": [
      "Best Score:  0.7292307692307693 Best parameters: {'max_depth': 20, 'min_samples_leaf': 4, 'min_samples_split': 10}\n",
      "0.7046153846153846 {'max_depth': None, 'min_samples_leaf': 1, 'min_samples_split': 2}\n",
      "0.7153846153846153 {'max_depth': None, 'min_samples_leaf': 1, 'min_samples_split': 5}\n",
      "0.7092307692307692 {'max_depth': None, 'min_samples_leaf': 1, 'min_samples_split': 10}\n",
      "0.7015384615384616 {'max_depth': None, 'min_samples_leaf': 2, 'min_samples_split': 2}\n",
      "0.7138461538461538 {'max_depth': None, 'min_samples_leaf': 2, 'min_samples_split': 5}\n",
      "0.7092307692307693 {'max_depth': None, 'min_samples_leaf': 2, 'min_samples_split': 10}\n",
      "0.7169230769230769 {'max_depth': None, 'min_samples_leaf': 4, 'min_samples_split': 2}\n",
      "0.716923076923077 {'max_depth': None, 'min_samples_leaf': 4, 'min_samples_split': 5}\n",
      "0.7230769230769232 {'max_depth': None, 'min_samples_leaf': 4, 'min_samples_split': 10}\n",
      "0.6692307692307693 {'max_depth': 5, 'min_samples_leaf': 1, 'min_samples_split': 2}\n",
      "0.6630769230769231 {'max_depth': 5, 'min_samples_leaf': 1, 'min_samples_split': 5}\n",
      "0.6661538461538462 {'max_depth': 5, 'min_samples_leaf': 1, 'min_samples_split': 10}\n",
      "0.6692307692307693 {'max_depth': 5, 'min_samples_leaf': 2, 'min_samples_split': 2}\n",
      "0.6630769230769231 {'max_depth': 5, 'min_samples_leaf': 2, 'min_samples_split': 5}\n",
      "0.6615384615384616 {'max_depth': 5, 'min_samples_leaf': 2, 'min_samples_split': 10}\n",
      "0.6676923076923077 {'max_depth': 5, 'min_samples_leaf': 4, 'min_samples_split': 2}\n",
      "0.6615384615384616 {'max_depth': 5, 'min_samples_leaf': 4, 'min_samples_split': 5}\n",
      "0.66 {'max_depth': 5, 'min_samples_leaf': 4, 'min_samples_split': 10}\n",
      "0.7138461538461538 {'max_depth': 10, 'min_samples_leaf': 1, 'min_samples_split': 2}\n",
      "0.696923076923077 {'max_depth': 10, 'min_samples_leaf': 1, 'min_samples_split': 5}\n",
      "0.7061538461538461 {'max_depth': 10, 'min_samples_leaf': 1, 'min_samples_split': 10}\n",
      "0.7153846153846153 {'max_depth': 10, 'min_samples_leaf': 2, 'min_samples_split': 2}\n",
      "0.703076923076923 {'max_depth': 10, 'min_samples_leaf': 2, 'min_samples_split': 5}\n",
      "0.7076923076923076 {'max_depth': 10, 'min_samples_leaf': 2, 'min_samples_split': 10}\n",
      "0.7169230769230769 {'max_depth': 10, 'min_samples_leaf': 4, 'min_samples_split': 2}\n",
      "0.7261538461538463 {'max_depth': 10, 'min_samples_leaf': 4, 'min_samples_split': 5}\n",
      "0.7276923076923077 {'max_depth': 10, 'min_samples_leaf': 4, 'min_samples_split': 10}\n",
      "0.6953846153846153 {'max_depth': 15, 'min_samples_leaf': 1, 'min_samples_split': 2}\n",
      "0.7092307692307692 {'max_depth': 15, 'min_samples_leaf': 1, 'min_samples_split': 5}\n",
      "0.7092307692307692 {'max_depth': 15, 'min_samples_leaf': 1, 'min_samples_split': 10}\n",
      "0.7169230769230769 {'max_depth': 15, 'min_samples_leaf': 2, 'min_samples_split': 2}\n",
      "0.7015384615384616 {'max_depth': 15, 'min_samples_leaf': 2, 'min_samples_split': 5}\n",
      "0.6938461538461538 {'max_depth': 15, 'min_samples_leaf': 2, 'min_samples_split': 10}\n",
      "0.72 {'max_depth': 15, 'min_samples_leaf': 4, 'min_samples_split': 2}\n",
      "0.7215384615384615 {'max_depth': 15, 'min_samples_leaf': 4, 'min_samples_split': 5}\n",
      "0.7215384615384617 {'max_depth': 15, 'min_samples_leaf': 4, 'min_samples_split': 10}\n",
      "0.7076923076923077 {'max_depth': 20, 'min_samples_leaf': 1, 'min_samples_split': 2}\n",
      "0.6984615384615384 {'max_depth': 20, 'min_samples_leaf': 1, 'min_samples_split': 5}\n",
      "0.7138461538461539 {'max_depth': 20, 'min_samples_leaf': 1, 'min_samples_split': 10}\n",
      "0.7 {'max_depth': 20, 'min_samples_leaf': 2, 'min_samples_split': 2}\n",
      "0.7046153846153846 {'max_depth': 20, 'min_samples_leaf': 2, 'min_samples_split': 5}\n",
      "0.7138461538461538 {'max_depth': 20, 'min_samples_leaf': 2, 'min_samples_split': 10}\n",
      "0.7230769230769232 {'max_depth': 20, 'min_samples_leaf': 4, 'min_samples_split': 2}\n",
      "0.7215384615384615 {'max_depth': 20, 'min_samples_leaf': 4, 'min_samples_split': 5}\n",
      "0.7292307692307693 {'max_depth': 20, 'min_samples_leaf': 4, 'min_samples_split': 10}\n"
     ]
    }
   ],
   "source": [
    "from sklearn.tree import DecisionTreeClassifier\n",
    "\n",
    "model = DecisionTreeClassifier(random_state=42)\n",
    "param_grid = {\n",
    "    'max_depth': [None, 5, 10, 15, 20],\n",
    "    'min_samples_split': [2, 5, 10],\n",
    "    'min_samples_leaf': [1, 2, 4] \n",
    "}\n",
    "\n",
    "# Grid search\n",
    "grid_search = GridSearchCV(model, param_grid, cv=5, scoring='accuracy')\n",
    "grid_search.fit(X_train, y_train)\n",
    "\n",
    "# Results\n",
    "print(\"Best Score: \", grid_search.best_score_, \"Best parameters:\", grid_search.best_params_, )\n",
    "mean = grid_search.cv_results_['mean_test_score']\n",
    "params = grid_search.cv_results_['params']\n",
    "for mean, param in zip(mean, params):\n",
    "    print(mean, param)"
   ]
  },
  {
   "cell_type": "code",
   "execution_count": 21,
   "id": "fd86004d",
   "metadata": {},
   "outputs": [
    {
     "name": "stdout",
     "output_type": "stream",
     "text": [
      "Accuracy on training set: 0.8661538461538462\n",
      "Accuracy on testing set: 0.7926267281105991\n"
     ]
    }
   ],
   "source": [
    "print(\"Accuracy on training set: {}\".format(grid_search.best_estimator_.score(X_train, y_train)))\n",
    "print(\"Accuracy on testing set: {}\".format(grid_search.best_estimator_.score(X_test, y_test)))"
   ]
  },
  {
   "cell_type": "markdown",
   "id": "8f4023ce",
   "metadata": {},
   "source": [
    "There is a big gap between the training and the test score, which indicates that the model is overfitting. In addition the score is not very high, compared to the other models.\n",
    "\n",
    "But lets visualize the tree and see what the best predictors are."
   ]
  },
  {
   "cell_type": "code",
   "execution_count": 38,
   "id": "5d4324da",
   "metadata": {},
   "outputs": [
    {
     "data": {
      "image/svg+xml": [
       "<?xml version=\"1.0\" encoding=\"UTF-8\" standalone=\"no\"?>\n",
       "<!DOCTYPE svg PUBLIC \"-//W3C//DTD SVG 1.1//EN\"\n",
       " \"http://www.w3.org/Graphics/SVG/1.1/DTD/svg11.dtd\">\n",
       "<!-- Generated by graphviz version 2.50.0 (0)\n",
       " -->\n",
       "<!-- Title: Tree Pages: 1 -->\n",
       "<svg width=\"628pt\" height=\"282pt\"\n",
       " viewBox=\"0.00 0.00 628.00 282.00\" xmlns=\"http://www.w3.org/2000/svg\" xmlns:xlink=\"http://www.w3.org/1999/xlink\">\n",
       "<g id=\"graph0\" class=\"graph\" transform=\"scale(1 1) rotate(0) translate(4 278)\">\n",
       "<title>Tree</title>\n",
       "<polygon fill=\"white\" stroke=\"transparent\" points=\"-4,4 -4,-278 624,-278 624,4 -4,4\"/>\n",
       "<!-- 0 -->\n",
       "<g id=\"node1\" class=\"node\">\n",
       "<title>0</title>\n",
       "<path fill=\"#fdfffc\" stroke=\"black\" d=\"M451.5,-274C451.5,-274 152.5,-274 152.5,-274 146.5,-274 140.5,-268 140.5,-262 140.5,-262 140.5,-203 140.5,-203 140.5,-197 146.5,-191 152.5,-191 152.5,-191 451.5,-191 451.5,-191 457.5,-191 463.5,-197 463.5,-203 463.5,-203 463.5,-262 463.5,-262 463.5,-268 457.5,-274 451.5,-274\"/>\n",
       "<text text-anchor=\"start\" x=\"273.5\" y=\"-258.8\" font-family=\"Helvetica,sans-Serif\" font-size=\"14.00\">11b ≤ 0.5</text>\n",
       "<text text-anchor=\"start\" x=\"266.5\" y=\"-243.8\" font-family=\"Helvetica,sans-Serif\" font-size=\"14.00\">gini = 0.922</text>\n",
       "<text text-anchor=\"start\" x=\"257\" y=\"-228.8\" font-family=\"Helvetica,sans-Serif\" font-size=\"14.00\">samples = 650</text>\n",
       "<text text-anchor=\"start\" x=\"148.5\" y=\"-213.8\" font-family=\"Helvetica,sans-Serif\" font-size=\"14.00\">value = [50, 28, 37, 73, 55, 20, 32, 53, 2, 32, 38, 50</text>\n",
       "<text text-anchor=\"start\" x=\"270\" y=\"-198.8\" font-family=\"Helvetica,sans-Serif\" font-size=\"14.00\">65, 52, 63]</text>\n",
       "</g>\n",
       "<!-- 1 -->\n",
       "<g id=\"node2\" class=\"node\">\n",
       "<title>1</title>\n",
       "<path fill=\"#fdf2fb\" stroke=\"black\" d=\"M274,-155C274,-155 12,-155 12,-155 6,-155 0,-149 0,-143 0,-143 0,-84 0,-84 0,-78 6,-72 12,-72 12,-72 274,-72 274,-72 280,-72 286,-78 286,-84 286,-84 286,-143 286,-143 286,-149 280,-155 274,-155\"/>\n",
       "<text text-anchor=\"start\" x=\"116\" y=\"-139.8\" font-family=\"Helvetica,sans-Serif\" font-size=\"14.00\">6b ≤ &#45;0.5</text>\n",
       "<text text-anchor=\"start\" x=\"107.5\" y=\"-124.8\" font-family=\"Helvetica,sans-Serif\" font-size=\"14.00\">gini = 0.816</text>\n",
       "<text text-anchor=\"start\" x=\"98\" y=\"-109.8\" font-family=\"Helvetica,sans-Serif\" font-size=\"14.00\">samples = 252</text>\n",
       "<text text-anchor=\"start\" x=\"8\" y=\"-94.8\" font-family=\"Helvetica,sans-Serif\" font-size=\"14.00\">value = [24, 0, 1, 2, 52, 5, 7, 0, 1, 5, 0, 40, 65</text>\n",
       "<text text-anchor=\"start\" x=\"126\" y=\"-79.8\" font-family=\"Helvetica,sans-Serif\" font-size=\"14.00\">50, 0]</text>\n",
       "</g>\n",
       "<!-- 0&#45;&gt;1 -->\n",
       "<g id=\"edge1\" class=\"edge\">\n",
       "<title>0&#45;&gt;1</title>\n",
       "<path fill=\"none\" stroke=\"black\" d=\"M246.84,-190.91C233.76,-181.29 219.72,-170.95 206.32,-161.09\"/>\n",
       "<polygon fill=\"black\" stroke=\"black\" points=\"208.2,-158.13 198.07,-155.02 204.05,-163.77 208.2,-158.13\"/>\n",
       "<text text-anchor=\"middle\" x=\"201.83\" y=\"-176.04\" font-family=\"Helvetica,sans-Serif\" font-size=\"14.00\">True</text>\n",
       "</g>\n",
       "<!-- 40 -->\n",
       "<g id=\"node5\" class=\"node\">\n",
       "<title>40</title>\n",
       "<path fill=\"#fcfefa\" stroke=\"black\" d=\"M608,-155C608,-155 316,-155 316,-155 310,-155 304,-149 304,-143 304,-143 304,-84 304,-84 304,-78 310,-72 316,-72 316,-72 608,-72 608,-72 614,-72 620,-78 620,-84 620,-84 620,-143 620,-143 620,-149 614,-155 608,-155\"/>\n",
       "<text text-anchor=\"start\" x=\"433.5\" y=\"-139.8\" font-family=\"Helvetica,sans-Serif\" font-size=\"14.00\">534 ≤ 0.5</text>\n",
       "<text text-anchor=\"start\" x=\"426.5\" y=\"-124.8\" font-family=\"Helvetica,sans-Serif\" font-size=\"14.00\">gini = 0.888</text>\n",
       "<text text-anchor=\"start\" x=\"417\" y=\"-109.8\" font-family=\"Helvetica,sans-Serif\" font-size=\"14.00\">samples = 398</text>\n",
       "<text text-anchor=\"start\" x=\"312\" y=\"-94.8\" font-family=\"Helvetica,sans-Serif\" font-size=\"14.00\">value = [26, 28, 36, 71, 3, 15, 25, 53, 1, 27, 38, 10</text>\n",
       "<text text-anchor=\"start\" x=\"437.5\" y=\"-79.8\" font-family=\"Helvetica,sans-Serif\" font-size=\"14.00\">0, 2, 63]</text>\n",
       "</g>\n",
       "<!-- 0&#45;&gt;40 -->\n",
       "<g id=\"edge4\" class=\"edge\">\n",
       "<title>0&#45;&gt;40</title>\n",
       "<path fill=\"none\" stroke=\"black\" d=\"M357.51,-190.91C370.67,-181.29 384.8,-170.95 398.29,-161.09\"/>\n",
       "<polygon fill=\"black\" stroke=\"black\" points=\"400.58,-163.75 406.59,-155.02 396.45,-158.1 400.58,-163.75\"/>\n",
       "<text text-anchor=\"middle\" x=\"402.75\" y=\"-176.02\" font-family=\"Helvetica,sans-Serif\" font-size=\"14.00\">False</text>\n",
       "</g>\n",
       "<!-- 2 -->\n",
       "<g id=\"node3\" class=\"node\">\n",
       "<title>2</title>\n",
       "<path fill=\"#c0c0c0\" stroke=\"black\" d=\"M122,-36C122,-36 92,-36 92,-36 86,-36 80,-30 80,-24 80,-24 80,-12 80,-12 80,-6 86,0 92,0 92,0 122,0 122,0 128,0 134,-6 134,-12 134,-12 134,-24 134,-24 134,-30 128,-36 122,-36\"/>\n",
       "<text text-anchor=\"middle\" x=\"107\" y=\"-14.3\" font-family=\"Helvetica,sans-Serif\" font-size=\"14.00\">(...)</text>\n",
       "</g>\n",
       "<!-- 1&#45;&gt;2 -->\n",
       "<g id=\"edge2\" class=\"edge\">\n",
       "<title>1&#45;&gt;2</title>\n",
       "<path fill=\"none\" stroke=\"black\" d=\"M127.31,-71.76C123.96,-63.04 120.49,-54.04 117.39,-45.99\"/>\n",
       "<polygon fill=\"black\" stroke=\"black\" points=\"120.56,-44.48 113.7,-36.41 114.03,-46.99 120.56,-44.48\"/>\n",
       "</g>\n",
       "<!-- 35 -->\n",
       "<g id=\"node4\" class=\"node\">\n",
       "<title>35</title>\n",
       "<path fill=\"#c0c0c0\" stroke=\"black\" d=\"M194,-36C194,-36 164,-36 164,-36 158,-36 152,-30 152,-24 152,-24 152,-12 152,-12 152,-6 158,0 164,0 164,0 194,0 194,0 200,0 206,-6 206,-12 206,-12 206,-24 206,-24 206,-30 200,-36 194,-36\"/>\n",
       "<text text-anchor=\"middle\" x=\"179\" y=\"-14.3\" font-family=\"Helvetica,sans-Serif\" font-size=\"14.00\">(...)</text>\n",
       "</g>\n",
       "<!-- 1&#45;&gt;35 -->\n",
       "<g id=\"edge3\" class=\"edge\">\n",
       "<title>1&#45;&gt;35</title>\n",
       "<path fill=\"none\" stroke=\"black\" d=\"M158.69,-71.76C162.04,-63.04 165.51,-54.04 168.61,-45.99\"/>\n",
       "<polygon fill=\"black\" stroke=\"black\" points=\"171.97,-46.99 172.3,-36.41 165.44,-44.48 171.97,-46.99\"/>\n",
       "</g>\n",
       "<!-- 41 -->\n",
       "<g id=\"node6\" class=\"node\">\n",
       "<title>41</title>\n",
       "<path fill=\"#c0c0c0\" stroke=\"black\" d=\"M441,-36C441,-36 411,-36 411,-36 405,-36 399,-30 399,-24 399,-24 399,-12 399,-12 399,-6 405,0 411,0 411,0 441,0 441,0 447,0 453,-6 453,-12 453,-12 453,-24 453,-24 453,-30 447,-36 441,-36\"/>\n",
       "<text text-anchor=\"middle\" x=\"426\" y=\"-14.3\" font-family=\"Helvetica,sans-Serif\" font-size=\"14.00\">(...)</text>\n",
       "</g>\n",
       "<!-- 40&#45;&gt;41 -->\n",
       "<g id=\"edge5\" class=\"edge\">\n",
       "<title>40&#45;&gt;41</title>\n",
       "<path fill=\"none\" stroke=\"black\" d=\"M446.31,-71.76C442.96,-63.04 439.49,-54.04 436.39,-45.99\"/>\n",
       "<polygon fill=\"black\" stroke=\"black\" points=\"439.56,-44.48 432.7,-36.41 433.03,-46.99 439.56,-44.48\"/>\n",
       "</g>\n",
       "<!-- 98 -->\n",
       "<g id=\"node7\" class=\"node\">\n",
       "<title>98</title>\n",
       "<path fill=\"#c0c0c0\" stroke=\"black\" d=\"M513,-36C513,-36 483,-36 483,-36 477,-36 471,-30 471,-24 471,-24 471,-12 471,-12 471,-6 477,0 483,0 483,0 513,0 513,0 519,0 525,-6 525,-12 525,-12 525,-24 525,-24 525,-30 519,-36 513,-36\"/>\n",
       "<text text-anchor=\"middle\" x=\"498\" y=\"-14.3\" font-family=\"Helvetica,sans-Serif\" font-size=\"14.00\">(...)</text>\n",
       "</g>\n",
       "<!-- 40&#45;&gt;98 -->\n",
       "<g id=\"edge6\" class=\"edge\">\n",
       "<title>40&#45;&gt;98</title>\n",
       "<path fill=\"none\" stroke=\"black\" d=\"M477.69,-71.76C481.04,-63.04 484.51,-54.04 487.61,-45.99\"/>\n",
       "<polygon fill=\"black\" stroke=\"black\" points=\"490.97,-46.99 491.3,-36.41 484.44,-44.48 490.97,-46.99\"/>\n",
       "</g>\n",
       "</g>\n",
       "</svg>\n"
      ],
      "text/plain": [
       "<graphviz.sources.Source at 0x169198a10>"
      ]
     },
     "execution_count": 38,
     "metadata": {},
     "output_type": "execute_result"
    }
   ],
   "source": [
    "import graphviz\n",
    "from sklearn.tree import export_graphviz\n",
    "\n",
    "dot_data = export_graphviz(grid_search.best_estimator_, out_file=None,\n",
    "              feature_names=X.columns, filled=True, rounded=True,\n",
    "              special_characters=True, max_depth=1)\n",
    "\n",
    "graph = graphviz.Source(dot_data)\n",
    "graph"
   ]
  },
  {
   "cell_type": "markdown",
   "id": "beff2b73",
   "metadata": {},
   "source": [
    "The best predictor was question **11b**, which is the following:\n",
    "> **11b:** *Det bør undersøges, om Mette Frederiksen kan stilles for en rigsret som konsekvens af hendes håndtering af Mink-sagen.*\n",
    "\n",
    "Which is a question about the Mink-saga, which was a big scandal in Denmark.\n",
    "\n",
    "Interestingly this is not about one of the big subjects in politics (economy, immigration, climate etc.), but about a specific event.\n",
    "\n",
    "The second best predictors was question **6b** and **534**.\n",
    "> **6b:** *Det vil være en god idé at etablere et dansk asylmodtagecenter i Rwanda.*\n",
    "\n",
    "> **534:** *På sigt skal Danmark meldes ud af EU*\n",
    "\n",
    "These questions are very political in comparison to **11b**, and discusses immigration and foreign policy."
   ]
  }
 ],
 "metadata": {
  "kernelspec": {
   "display_name": "Python 3 (ipykernel)",
   "language": "python",
   "name": "python3"
  },
  "language_info": {
   "codemirror_mode": {
    "name": "ipython",
    "version": 3
   },
   "file_extension": ".py",
   "mimetype": "text/x-python",
   "name": "python",
   "nbconvert_exporter": "python",
   "pygments_lexer": "ipython3",
   "version": "3.11.7"
  }
 },
 "nbformat": 4,
 "nbformat_minor": 5
}
